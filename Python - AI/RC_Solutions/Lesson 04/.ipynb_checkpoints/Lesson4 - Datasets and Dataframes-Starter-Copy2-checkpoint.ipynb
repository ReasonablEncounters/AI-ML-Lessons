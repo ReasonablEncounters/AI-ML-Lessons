{
 "cells": [
  {
   "cell_type": "markdown",
   "metadata": {},
   "source": [
    "<img src=\"https://upload.wikimedia.org/wikipedia/commons/thumb/3/3d/Durham_College_logo.svg/1200px-Durham_College_logo.svg.png\" alt=\"DC Logo\" style=\"width: 450px;float:left;\"/>"
   ]
  },
  {
   "cell_type": "markdown",
   "metadata": {},
   "source": [
    "# LESSON 4 - Datasets & DataFrames\n",
    "## OVERVIEW\n",
    "**Background:** For this boot camp, we will be scraping data from data-sets into data-frames using the ‘pandas’ library. Data scraping is about obtaining data from webpages or other data-sets. There is low level scraping where you parse the data out of the HTML or XML code of a webpage. You can also scrape data from the APIs of certain websites as well as pre-compiled datasets.\n",
    "\n",
    "**Reminders:**\n",
    "-\tMake use of short-cuts, like tab completion\n",
    "-\tMake use of Google; Resources can help you turn snippets into fully             functional code\n",
    "-\tMake variable names meaningful!!!\n",
    "    - (a = b * c) can be harder to interpret when contextual errors arise\n",
    "    - Using contextually relevant variable names can make it easier for \n",
    "      others to jump in and contribute to, or analyze your code when you get stuck\n",
    "- **Comment your code for clear logic!**\n",
    "\n",
    "\n",
    "## Launch Jupyter Notebook\n",
    "1.\tLaunch ‘Jupyter Notebook’ using the shortcut you created in Lesson 1\n",
    "2.\tNavigate to your Lesson 4 folder\n",
    "3.\tSelect & Duplicate the ‘Lesson4-Reference.ipynb’ file\n",
    "    - *You will be tinkering – things might break – it’s a backup*\n",
    "4.\tOpen the new duplicate file & Rename it: **‘scraping-intro’**\n",
    "\n",
    "**Note:** *Answer any **questions or statements in bold** in the code block below each section.*\n",
    "\n",
    "Other questions are for experimentation and should help guide you to understand each portion of the lesson.\n"
   ]
  },
  {
   "cell_type": "markdown",
   "metadata": {},
   "source": [
    "# SECTION 1\n",
    "### Import the Required Libraries\n",
    "-\tRun the import snippet to ensure there are no errors\n",
    "-\tMake note of the libraries being imported, and the namespaces used\n",
    "-\tReference links for each library can be found in the **Code-Reference.gdoc**\n",
    "\n",
    "**Pandas Reference Documentation:** http://pandas.pydata.org/pandas-docs/stable/"
   ]
  },
  {
   "cell_type": "code",
   "execution_count": 3,
   "metadata": {
    "collapsed": true
   },
   "outputs": [],
   "source": [
    "from IPython.display import HTML\n",
    "import re # regular expressions\n",
    "\n",
    "## IMPORT NUMPY\n",
    "import numpy as np\n",
    "\n",
    "## IMPORT PANDAS\n",
    "from pandas import Series\n",
    "import pandas as pd\n",
    "from pandas import DataFrame"
   ]
  },
  {
   "cell_type": "markdown",
   "metadata": {},
   "source": [
    "# SECTION 2\n",
    "### Read the User Data\n",
    "\n",
    "-\tPandas has a function to read CSV files and turn them into tables\n",
    "    - These tables are called DataFrames\n",
    "\n",
    "\n",
    "- ***Alter the 'users.head()' code below to return more than 5 rows of user data at a time.***\n",
    "- *What happens if you change the column names in **'u_cols'** ?*\n",
    "- *What happens if you change the separator type to **sep='\\t'** ?*"
   ]
  },
  {
   "cell_type": "code",
   "execution_count": 5,
   "metadata": {},
   "outputs": [
    {
     "data": {
      "text/html": [
       "<div>\n",
       "<style>\n",
       "    .dataframe thead tr:only-child th {\n",
       "        text-align: right;\n",
       "    }\n",
       "\n",
       "    .dataframe thead th {\n",
       "        text-align: left;\n",
       "    }\n",
       "\n",
       "    .dataframe tbody tr th {\n",
       "        vertical-align: top;\n",
       "    }\n",
       "</style>\n",
       "<table border=\"1\" class=\"dataframe\">\n",
       "  <thead>\n",
       "    <tr style=\"text-align: right;\">\n",
       "      <th></th>\n",
       "      <th>user_id</th>\n",
       "      <th>age</th>\n",
       "      <th>sex</th>\n",
       "      <th>occupation</th>\n",
       "      <th>zip_code</th>\n",
       "    </tr>\n",
       "  </thead>\n",
       "  <tbody>\n",
       "    <tr>\n",
       "      <th>0</th>\n",
       "      <td>1</td>\n",
       "      <td>24</td>\n",
       "      <td>M</td>\n",
       "      <td>technician</td>\n",
       "      <td>85711</td>\n",
       "    </tr>\n",
       "    <tr>\n",
       "      <th>1</th>\n",
       "      <td>2</td>\n",
       "      <td>53</td>\n",
       "      <td>F</td>\n",
       "      <td>other</td>\n",
       "      <td>94043</td>\n",
       "    </tr>\n",
       "    <tr>\n",
       "      <th>2</th>\n",
       "      <td>3</td>\n",
       "      <td>23</td>\n",
       "      <td>M</td>\n",
       "      <td>writer</td>\n",
       "      <td>32067</td>\n",
       "    </tr>\n",
       "    <tr>\n",
       "      <th>3</th>\n",
       "      <td>4</td>\n",
       "      <td>24</td>\n",
       "      <td>M</td>\n",
       "      <td>technician</td>\n",
       "      <td>43537</td>\n",
       "    </tr>\n",
       "    <tr>\n",
       "      <th>4</th>\n",
       "      <td>5</td>\n",
       "      <td>33</td>\n",
       "      <td>F</td>\n",
       "      <td>other</td>\n",
       "      <td>15213</td>\n",
       "    </tr>\n",
       "  </tbody>\n",
       "</table>\n",
       "</div>"
      ],
      "text/plain": [
       "   user_id  age sex  occupation zip_code\n",
       "0        1   24   M  technician    85711\n",
       "1        2   53   F       other    94043\n",
       "2        3   23   M      writer    32067\n",
       "3        4   24   M  technician    43537\n",
       "4        5   33   F       other    15213"
      ]
     },
     "execution_count": 5,
     "metadata": {},
     "output_type": "execute_result"
    }
   ],
   "source": [
    "# Pass in column names for each CSV column\n",
    "u_cols = ['user_id', 'age', 'sex', 'occupation', 'zip_code']\n",
    "\n",
    "# Convert data from CSV into a DataFrame called 'users'\n",
    "users = pd.read_csv(\n",
    "    'http://files.grouplens.org/datasets/movielens/ml-100k/u.user', \n",
    "    sep='|', names=u_cols)\n",
    "\n",
    "# Change the amount of data returned by the .head() function\n",
    "# By default it returns the first 5 rows of data in the specified dataframe\n",
    "users.head()"
   ]
  },
  {
   "cell_type": "markdown",
   "metadata": {},
   "source": [
    "# SECTION 3\n",
    "### Read the Movie Ratings\n",
    "\n",
    "*Use the code in Section 2 as a reference for completing this section.*\n",
    "\n",
    "- How can you find information regarding a dataset?\n",
    "    - This situation is unique as we have been provided a pre-compiled data-set       with a resource for how the data is assembled\n",
    "    - http://files.grouplens.org/datasets/movielens/ml-100k\n",
    "    \n",
    "    \n",
    "- Open the **'README'** file and observe the 'u.data' information\n",
    "- Open the **'u.data'** file and observe the structure of the data\n",
    "    - When understanding how data should be read by 'pandas', it is important to view the data itself as opposed to relying solely on the documentation that may or may not be provided as it can contain visual clues to how it should be interpreted.\n",
    "    \n",
    "    \n",
    "- *How many columns of data are there?*\n",
    "- *What are the column names?*\n",
    "- *What are the data-types?*\n",
    "    \n",
    "**In the code block below, load the CSV data for movie ratings into a DataFrame called 'ratings'.**\n",
    "- The dataset is provided in the comments of the code block below."
   ]
  },
  {
   "cell_type": "code",
   "execution_count": 48,
   "metadata": {},
   "outputs": [
    {
     "data": {
      "text/html": [
       "<div>\n",
       "<style>\n",
       "    .dataframe thead tr:only-child th {\n",
       "        text-align: right;\n",
       "    }\n",
       "\n",
       "    .dataframe thead th {\n",
       "        text-align: left;\n",
       "    }\n",
       "\n",
       "    .dataframe tbody tr th {\n",
       "        vertical-align: top;\n",
       "    }\n",
       "</style>\n",
       "<table border=\"1\" class=\"dataframe\">\n",
       "  <thead>\n",
       "    <tr style=\"text-align: right;\">\n",
       "      <th></th>\n",
       "      <th>user_id</th>\n",
       "      <th>movie_id</th>\n",
       "      <th>rating</th>\n",
       "      <th>unix_timestamp</th>\n",
       "    </tr>\n",
       "  </thead>\n",
       "  <tbody>\n",
       "    <tr>\n",
       "      <th>0</th>\n",
       "      <td>196</td>\n",
       "      <td>242</td>\n",
       "      <td>3</td>\n",
       "      <td>881250949</td>\n",
       "    </tr>\n",
       "    <tr>\n",
       "      <th>1</th>\n",
       "      <td>186</td>\n",
       "      <td>302</td>\n",
       "      <td>3</td>\n",
       "      <td>891717742</td>\n",
       "    </tr>\n",
       "    <tr>\n",
       "      <th>2</th>\n",
       "      <td>22</td>\n",
       "      <td>377</td>\n",
       "      <td>1</td>\n",
       "      <td>878887116</td>\n",
       "    </tr>\n",
       "    <tr>\n",
       "      <th>3</th>\n",
       "      <td>244</td>\n",
       "      <td>51</td>\n",
       "      <td>2</td>\n",
       "      <td>880606923</td>\n",
       "    </tr>\n",
       "    <tr>\n",
       "      <th>4</th>\n",
       "      <td>166</td>\n",
       "      <td>346</td>\n",
       "      <td>1</td>\n",
       "      <td>886397596</td>\n",
       "    </tr>\n",
       "  </tbody>\n",
       "</table>\n",
       "</div>"
      ],
      "text/plain": [
       "   user_id  movie_id  rating  unix_timestamp\n",
       "0      196       242       3       881250949\n",
       "1      186       302       3       891717742\n",
       "2       22       377       1       878887116\n",
       "3      244        51       2       880606923\n",
       "4      166       346       1       886397596"
      ]
     },
     "execution_count": 48,
     "metadata": {},
     "output_type": "execute_result"
    }
   ],
   "source": [
    "#   Pass in column names for each CSV column\n",
    "r_cols = ['user_id', 'movie_id', 'rating', 'unix_timestamp']\n",
    "\n",
    "#   Convert data from 'http://files.grouplens.org/datasets/movielens/ml-100ku.data' \n",
    "#   into a DataFrame called 'ratings'\n",
    "#ratings = pd.read_csv('http://files.grouplens.org/datasets/movielens/ml-100k/u.data', \n",
    "#    sep='\\t', names=r_cols)\n",
    "\n",
    "#   Return the first 5 rows of data from 'ratings'\n",
    "#ratings.head()"
   ]
  },
  {
   "cell_type": "markdown",
   "metadata": {},
   "source": [
    "# SECTION 4\n",
    "### Read the Movie Information\n",
    "\n",
    "*Specifying columns can be beneficial when trying to limit the amount of data that has to be processed, or the memory it requires.*\n",
    "- This example uses **usecols** in conjunction with the **range()** function to select the first 5 **columns** of data.\n",
    "    - Notice how there are 5 column names in 'm_cols' and a range of 5 columns.\n",
    "    \n",
    "    \n",
    "- **Complete the code below in order to experiment with the output.**\n",
    "\n",
    "\n",
    "- *Why is their encoding for this data, but not the others?*\n",
    "- *What happens when you remove, or change it?*  \n",
    "- *What happens when the column range does not match the number of column names provided?*"
   ]
  },
  {
   "cell_type": "code",
   "execution_count": 11,
   "metadata": {
    "scrolled": true
   },
   "outputs": [],
   "source": [
    "# The movies file contains columns indicating the movie's genres\n",
    "# let's only load the first 5 columns of the file with usecols\n",
    "m_cols = ['movie_id', 'title', 'release_date', \n",
    "            'video_release_date', 'imdb_url']\n",
    "\n",
    "# Convert data from CSV into a DataFrame called 'movies'\n",
    "movies = pd.read_csv(\n",
    "    'http://files.grouplens.org/datasets/movielens/ml-100k/u.item', \n",
    "    sep='|', names=m_cols, usecols=range(5), encoding = \"ISO-8859-1\")\n",
    "\n",
    "# Return the first 5 rows of data from 'movies'\n"
   ]
  },
  {
   "cell_type": "markdown",
   "metadata": {},
   "source": [
    "# SECTION 5\n",
    "### Get Information About the Movie Data\n",
    "\n",
    "*The functions being used are from the ‘pandas’ library.*\n",
    "- **Use the pandas reference provided above to determine how to return the datatypes of each column in the 'movies' DataFrame.**\n",
    "- *Why are only two columns returned for the ‘.describe( )’ function?*\n"
   ]
  },
  {
   "cell_type": "code",
   "execution_count": 8,
   "metadata": {},
   "outputs": [
    {
     "name": "stdout",
     "output_type": "stream",
     "text": [
      "          movie_id  video_release_date\n",
      "count  1682.000000                 0.0\n",
      "mean    841.500000                 NaN\n",
      "std     485.695893                 NaN\n",
      "min       1.000000                 NaN\n",
      "25%     421.250000                 NaN\n",
      "50%     841.500000                 NaN\n",
      "75%    1261.750000                 NaN\n",
      "max    1682.000000                 NaN\n"
     ]
    }
   ],
   "source": [
    "#   How do you get the datatype of each column in a DataFrame\n",
    "#print(movies.????)\n",
    "\n",
    "#   According to the pandas reference; How does this function determine what to return?\n",
    "#   What are the benefits of these limitations?\n",
    "print(movies.describe()) "
   ]
  },
  {
   "cell_type": "markdown",
   "metadata": {},
   "source": [
    "# SECTION 6\n",
    "### Selecting Data\n",
    "\n",
    "-\tRead over the code to ensure you understand the logic involved\n",
    "    -   *A DataFrame is a group of Series’ with a shared index*\n",
    "    -   *A single DataFrame column holds a single Series*\n",
    "\n",
    "**DataFrame => group of Series with shared index**\n",
    "\n",
    "**single DataFrame column => Series**\n",
    "\n",
    "Therefore, each **column of data** in a DataFrame is considered a **Series**\n",
    "\n",
    "- **Print the data for the first five rows with the columns you want**\n",
    "- **Use the ‘.iloc[ ]’ function to return and print the user data (for UserID 5) from the 'users' DataFrame you created above.**\n",
    "\n",
    "\n",
    "- *Why is the output no longer formatted like section 4 and prior?*\n",
    "- *Does the print function have a different output formatting than pandas?*"
   ]
  },
  {
   "cell_type": "code",
   "execution_count": 33,
   "metadata": {},
   "outputs": [
    {
     "data": {
      "text/html": [
       "<div>\n",
       "<style>\n",
       "    .dataframe thead tr:only-child th {\n",
       "        text-align: right;\n",
       "    }\n",
       "\n",
       "    .dataframe thead th {\n",
       "        text-align: left;\n",
       "    }\n",
       "\n",
       "    .dataframe tbody tr th {\n",
       "        vertical-align: top;\n",
       "    }\n",
       "</style>\n",
       "<table border=\"1\" class=\"dataframe\">\n",
       "  <thead>\n",
       "    <tr style=\"text-align: right;\">\n",
       "      <th></th>\n",
       "      <th>user_id</th>\n",
       "      <th>age</th>\n",
       "      <th>sex</th>\n",
       "      <th>occupation</th>\n",
       "      <th>zip_code</th>\n",
       "    </tr>\n",
       "  </thead>\n",
       "  <tbody>\n",
       "    <tr>\n",
       "      <th>0</th>\n",
       "      <td>1</td>\n",
       "      <td>24</td>\n",
       "      <td>M</td>\n",
       "      <td>technician</td>\n",
       "      <td>85711</td>\n",
       "    </tr>\n",
       "    <tr>\n",
       "      <th>1</th>\n",
       "      <td>2</td>\n",
       "      <td>53</td>\n",
       "      <td>F</td>\n",
       "      <td>other</td>\n",
       "      <td>94043</td>\n",
       "    </tr>\n",
       "    <tr>\n",
       "      <th>2</th>\n",
       "      <td>3</td>\n",
       "      <td>23</td>\n",
       "      <td>M</td>\n",
       "      <td>writer</td>\n",
       "      <td>32067</td>\n",
       "    </tr>\n",
       "    <tr>\n",
       "      <th>3</th>\n",
       "      <td>4</td>\n",
       "      <td>24</td>\n",
       "      <td>M</td>\n",
       "      <td>technician</td>\n",
       "      <td>43537</td>\n",
       "    </tr>\n",
       "    <tr>\n",
       "      <th>4</th>\n",
       "      <td>5</td>\n",
       "      <td>33</td>\n",
       "      <td>F</td>\n",
       "      <td>other</td>\n",
       "      <td>15213</td>\n",
       "    </tr>\n",
       "  </tbody>\n",
       "</table>\n",
       "</div>"
      ],
      "text/plain": [
       "   user_id  age sex  occupation zip_code\n",
       "0        1   24   M  technician    85711\n",
       "1        2   53   F       other    94043\n",
       "2        3   23   M      writer    32067\n",
       "3        4   24   M  technician    43537\n",
       "4        5   33   F       other    15213"
      ]
     },
     "execution_count": 33,
     "metadata": {},
     "output_type": "execute_result"
    }
   ],
   "source": [
    "#   These functions are similar but return different data\n",
    "#   Run both of them individually by commenting out the other and vice versa\n",
    "users.head()\n",
    "#users['occupation'].head()\n",
    "\n",
    "#   This functionality is not limited to one column, and can even be passed by reference\n",
    "#   Specify the column names that you want to return from the users dataset\n",
    "#columns_you_want = ['column_name1', 'column_name2']\n",
    "\n",
    "#   Print the data for the first five rows with the columns you want from the users dataset\n",
    "#print(users[columns_you_want].head())\n",
    "\n",
    "#   Print the data of a specific row\n",
    "#print(users.iloc[4])"
   ]
  },
  {
   "cell_type": "markdown",
   "metadata": {},
   "source": [
    "# SECTION 7\n",
    "### Filtering Data\n",
    "\n",
    "- Selecting users older than 25 from the user data\n",
    "    - Creating a new sub-DataFrame with that data\n",
    "- Notice how the column name can be referenced via the data-set name \n",
    "    - This is only possible after it has been processed into a DataFrame via pandas\n",
    "\n",
    "\n",
    "- **Create a new sub-frame called 'youthStudents' and select only students under the age of 18**"
   ]
  },
  {
   "cell_type": "code",
   "execution_count": 39,
   "metadata": {},
   "outputs": [
    {
     "data": {
      "text/html": [
       "<div>\n",
       "<style>\n",
       "    .dataframe thead tr:only-child th {\n",
       "        text-align: right;\n",
       "    }\n",
       "\n",
       "    .dataframe thead th {\n",
       "        text-align: left;\n",
       "    }\n",
       "\n",
       "    .dataframe tbody tr th {\n",
       "        vertical-align: top;\n",
       "    }\n",
       "</style>\n",
       "<table border=\"1\" class=\"dataframe\">\n",
       "  <thead>\n",
       "    <tr style=\"text-align: right;\">\n",
       "      <th></th>\n",
       "      <th>user_id</th>\n",
       "      <th>age</th>\n",
       "      <th>sex</th>\n",
       "      <th>occupation</th>\n",
       "      <th>zip_code</th>\n",
       "    </tr>\n",
       "  </thead>\n",
       "  <tbody>\n",
       "    <tr>\n",
       "      <th>1</th>\n",
       "      <td>2</td>\n",
       "      <td>53</td>\n",
       "      <td>F</td>\n",
       "      <td>other</td>\n",
       "      <td>94043</td>\n",
       "    </tr>\n",
       "    <tr>\n",
       "      <th>4</th>\n",
       "      <td>5</td>\n",
       "      <td>33</td>\n",
       "      <td>F</td>\n",
       "      <td>other</td>\n",
       "      <td>15213</td>\n",
       "    </tr>\n",
       "    <tr>\n",
       "      <th>5</th>\n",
       "      <td>6</td>\n",
       "      <td>42</td>\n",
       "      <td>M</td>\n",
       "      <td>executive</td>\n",
       "      <td>98101</td>\n",
       "    </tr>\n",
       "    <tr>\n",
       "      <th>6</th>\n",
       "      <td>7</td>\n",
       "      <td>57</td>\n",
       "      <td>M</td>\n",
       "      <td>administrator</td>\n",
       "      <td>91344</td>\n",
       "    </tr>\n",
       "    <tr>\n",
       "      <th>7</th>\n",
       "      <td>8</td>\n",
       "      <td>36</td>\n",
       "      <td>M</td>\n",
       "      <td>administrator</td>\n",
       "      <td>05201</td>\n",
       "    </tr>\n",
       "  </tbody>\n",
       "</table>\n",
       "</div>"
      ],
      "text/plain": [
       "   user_id  age sex     occupation zip_code\n",
       "1        2   53   F          other    94043\n",
       "4        5   33   F          other    15213\n",
       "5        6   42   M      executive    98101\n",
       "6        7   57   M  administrator    91344\n",
       "7        8   36   M  administrator    05201"
      ]
     },
     "execution_count": 39,
     "metadata": {},
     "output_type": "execute_result"
    }
   ],
   "source": [
    "#   Select users older than 25\n",
    "oldUsers = users[users.age > 25]\n",
    "oldUsers.head()\n",
    "\n",
    "#   Select users under the age of 18 who are also students\n",
    "#youthStudents = users[(users.age < 18) & (users.occupation == 'student')]\n",
    "#youthStudents.head(10)"
   ]
  },
  {
   "cell_type": "markdown",
   "metadata": {},
   "source": [
    "# SECTION 8\n",
    "### Overview Quiz 1\n",
    "\n",
    "**Using the 'users' DataFrame you created earlier in this lesson**\n",
    "1. Show the first 3 users aged 40 and Male\n",
    "2. Show the mean age of all Female Programmers\n",
    "\n",
    "#### Part 1"
   ]
  },
  {
   "cell_type": "code",
   "execution_count": 36,
   "metadata": {},
   "outputs": [],
   "source": [
    "#   Show the first 3 users who are age 40 AND male\n",
    "#users[(users.age == 40) & (users.sex == 'M')].head(3)"
   ]
  },
  {
   "cell_type": "markdown",
   "metadata": {},
   "source": [
    "#### Part 2"
   ]
  },
  {
   "cell_type": "code",
   "execution_count": 37,
   "metadata": {},
   "outputs": [],
   "source": [
    "#   Show users who are female and programmers\n",
    "#selected_users = users[(users.sex == 'F') & (users.occupation == 'programmer')]\n",
    "\n",
    "#   Show statistical summary which includes the mean\n",
    "#print(selected_users.describe())\n",
    "\n",
    "#   Display as the mean age of all female programmers\n",
    "#print(selected_users.age.mean())\n",
    "#print(selected_users['age'].mean())"
   ]
  },
  {
   "cell_type": "markdown",
   "metadata": {},
   "source": [
    "# SECTION 9\n",
    "### SPLIT-APPLY-COMBINE\n",
    "\n",
    "-\tsplitting the data into groups based on some specified criteria\n",
    "-\tapplying a function to each group of criteria independently of each other\n",
    "-\tcombining the results into a data structure\n",
    "\n",
    "<img src=\"https://camo.githubusercontent.com/60a1e7e95eaef8f9a99f43335368915eafedda3e/687474703a2f2f7777772e686f66726f652e6e65742f737461743537392f736c696465732f73706c69742d6170706c792d636f6d62696e652e706e67\" alt=\"Split-Apply-Combine\" style=\"width:250px;\"/>\n",
    "\n",
    "### Find Diligent Users\n",
    "-\tsplit data per user ID\n",
    "-\tcount ratings\n",
    "-\tcombine the result\n",
    "\n"
   ]
  },
  {
   "cell_type": "code",
   "execution_count": 57,
   "metadata": {},
   "outputs": [],
   "source": [
    "#   Split data into groups using the groupby() function to select a series or column from the dataset\n",
    "#grouped_data = ratings.groupby('user_id')\n",
    "#grouped_data = ratings['movie_id'].groupby(ratings['user_id'])\n",
    "\n",
    "#   Count the grouped data and combine it into a new sub-frame\n",
    "#ratings_per_user = grouped_data.count()\n",
    "\n",
    "#   Display the first 5 rows of data\n",
    "#ratings_per_user.head()"
   ]
  },
  {
   "cell_type": "markdown",
   "metadata": {},
   "source": [
    "# SECTION 10\n",
    "### Overview Quiz 2\n",
    "\n",
    "1. Get the Average Rating for the first 5 Movie ID's\n",
    "2. Get the Movie Titles with the highest average rating\n",
    "3. Get the number of ratings per Movie\n",
    "\n",
    "#### Part 1"
   ]
  },
  {
   "cell_type": "code",
   "execution_count": 58,
   "metadata": {},
   "outputs": [
    {
     "name": "stdout",
     "output_type": "stream",
     "text": [
      "Average ratings:\n",
      "movie_id\n",
      "1    3.878319\n",
      "2    3.206107\n",
      "3    3.033333\n",
      "4    3.550239\n",
      "5    3.302326\n",
      "Name: rating, dtype: float64\n"
     ]
    }
   ],
   "source": [
    "#   Split data into groups\n",
    "grouped_data = ratings['rating'].groupby(ratings['movie_id'])\n",
    "\n",
    "#   Average and Combine\n",
    "average_ratings = grouped_data.mean()\n",
    "\n",
    "#  Display the new sub-frame\n",
    "print(\"Average ratings:\")\n",
    "print(average_ratings.head())"
   ]
  },
  {
   "cell_type": "markdown",
   "metadata": {},
   "source": [
    "#### Part 2"
   ]
  },
  {
   "cell_type": "code",
   "execution_count": 64,
   "metadata": {},
   "outputs": [
    {
     "name": "stdout",
     "output_type": "stream",
     "text": [
      "Good Movies - IDs:\n",
      "Int64Index([814, 1122, 1189, 1201, 1293, 1467, 1500, 1536, 1599, 1653], dtype='int64', name='movie_id')\n",
      "Good Movies - Titles\n",
      "813                         Great Day in Harlem, A (1994)\n",
      "1121                       They Made Me a Criminal (1939)\n",
      "1188                                   Prefontaine (1997)\n",
      "1200           Marlene Dietrich: Shadow and Light (1996) \n",
      "1292                                      Star Kid (1997)\n",
      "1466                 Saint of Fort Washington, The (1993)\n",
      "1499                            Santa with Muscles (1996)\n",
      "1535                                 Aiqing wansui (1994)\n",
      "1598                        Someone Else's America (1995)\n",
      "1652    Entertaining Angels: The Dorothy Day Story (1996)\n",
      "Name: title, dtype: object\n"
     ]
    }
   ],
   "source": [
    "#   Get the maximum rating in the average ratings\n",
    "maximum_rating = average_ratings.max()\n",
    "\n",
    "#   Index the movies in the average ratings that are equal to the maximum rating determined above\n",
    "#   Store those movie id's in a new dataframe\n",
    "good_movie_ids = average_ratings[average_ratings == maximum_rating].index\n",
    "\n",
    "#   Display the good movie IDs\n",
    "print(\"Good Movies - IDs:\")\n",
    "#print(good_movie_ids)\n",
    "\n",
    "#   Display the titles of the good movie IDs if they are in the movies DataFrame\n",
    "#   Use the .isin() function to determine what titles should be printed\n",
    "print(\"Good Movies - Titles\")\n",
    "#print(movies[movies.movie_id.isin(good_movie_ids)].title)"
   ]
  },
  {
   "cell_type": "markdown",
   "metadata": {},
   "source": [
    "#### Part 3"
   ]
  },
  {
   "cell_type": "code",
   "execution_count": 65,
   "metadata": {},
   "outputs": [
    {
     "name": "stdout",
     "output_type": "stream",
     "text": [
      "Number of ratings per movie\n",
      "movie_id\n",
      "814     1\n",
      "1122    1\n",
      "1189    3\n",
      "1201    1\n",
      "1293    3\n",
      "1467    2\n",
      "1500    2\n",
      "1536    1\n",
      "1599    1\n",
      "1653    1\n",
      "Name: rating, dtype: int64\n"
     ]
    }
   ],
   "source": [
    "#   Count the number of ratings per movie ID\n",
    "#   Store them in a new sub-frame called 'how_many_ratings'\n",
    "#   Reference Part 1 of the Quiz for the pre-existing sub-frame you need to count\n",
    "#how_many_ratings = grouped_data.count()\n",
    "\n",
    "#   Display the number of ratings per movie that are equal to the maximum rating\n",
    "print(\"Number of ratings per movie\")\n",
    "#print(how_many_ratings[average_ratings == maximum_rating])"
   ]
  },
  {
   "cell_type": "markdown",
   "metadata": {},
   "source": [
    "# SECTION 11\n",
    "### Passing a Function"
   ]
  },
  {
   "cell_type": "code",
   "execution_count": 88,
   "metadata": {},
   "outputs": [
    {
     "data": {
      "text/plain": [
       "user_id\n",
       "1    3.610294\n",
       "2    3.709677\n",
       "3    2.796296\n",
       "4    4.333333\n",
       "5    2.874286\n",
       "Name: rating, dtype: float64"
      ]
     },
     "execution_count": 88,
     "metadata": {},
     "output_type": "execute_result"
    }
   ],
   "source": [
    "#   Get the average rating of each user ID\n",
    "#   Running the lambda function means\n",
    "#   for every iteration of an individual user ID (the column identifier in the dataset)\n",
    "#   there is a calculated mean/average added to the new DataFrame\n",
    "average_ratings = grouped_data.apply(lambda f: f.mean())\n",
    "\n",
    "#   Display the first 5 rows of average ratings by user ID\n",
    "#average_ratings.head()"
   ]
  },
  {
   "cell_type": "markdown",
   "metadata": {},
   "source": [
    "# SECTION 12\n",
    "### Overview Quiz 3\n",
    "\n",
    "1. Get the average rating per user\n",
    "2. Get a list of all occupations and if they are male or female dominant\n",
    "3. Get the total number of male and female users\n",
    "\n",
    "#### Part 1"
   ]
  },
  {
   "cell_type": "code",
   "execution_count": 89,
   "metadata": {},
   "outputs": [],
   "source": [
    "#   Get the average rating per user\n",
    "\n",
    "#   Get the movie ratings and group them by user ID\n",
    "#   Create a new sub-frame called 'grouped_data' to store it in\n",
    "grouped_data = ratings['rating'].groupby(ratings['user_id'])\n",
    "\n",
    "#   Get the mean of the grouped_data\n",
    "#   Create a new sub-frame called 'average_ratings' to store it in\n",
    "#average_ratings = grouped_data.mean()\n",
    "\n",
    "#   Get the first 10 rows of average ratings\n",
    "#average_ratings.head(10)\n",
    "\n",
    "#   Get and Display the number of ratings per movie\n",
    "#ratings_per_movie = ratings['rating'].groupby(ratings['movie_id'])\n",
    "#print(ratings_per_movie.head())"
   ]
  },
  {
   "cell_type": "markdown",
   "metadata": {},
   "source": [
    "#### Part 2"
   ]
  },
  {
   "cell_type": "code",
   "execution_count": 93,
   "metadata": {},
   "outputs": [
    {
     "name": "stdout",
     "output_type": "stream",
     "text": [
      "occupation\n",
      "administrator     True\n",
      "artist            True\n",
      "doctor            True\n",
      "educator          True\n",
      "engineer          True\n",
      "entertainment     True\n",
      "executive         True\n",
      "healthcare       False\n",
      "homemaker        False\n",
      "lawyer            True\n",
      "librarian        False\n",
      "marketing         True\n",
      "none              True\n",
      "other             True\n",
      "programmer        True\n",
      "retired           True\n",
      "salesman          True\n",
      "scientist         True\n",
      "student           True\n",
      "technician        True\n",
      "writer            True\n",
      "Name: sex, dtype: bool\n"
     ]
    }
   ],
   "source": [
    "#   List all occupations and if they are male or female dominant\n",
    "\n",
    "#   Get the gender and group by occupation\n",
    "#   Create a new sub-frame called 'grouped_data' to store it in\n",
    "#grouped_data = users['sex'].groupby(users['occupation'])\n",
    "\n",
    "#   Get a boolean value to represent male dominated occupations\n",
    "#   Running the lambda function means\n",
    "#   for every occupation with more males than females\n",
    "#   a list with each occupation and a boolean value stating true or false is added to the new DataFrame\n",
    "male_dominant_occupations = grouped_data.apply(lambda f: sum(f == 'M') > sum(f == 'F'))\n",
    "\n",
    "#   Display the sub-frame\n",
    "print(male_dominant_occupations)"
   ]
  },
  {
   "cell_type": "markdown",
   "metadata": {},
   "source": [
    "#### Part 3"
   ]
  },
  {
   "cell_type": "code",
   "execution_count": 92,
   "metadata": {},
   "outputs": [
    {
     "name": "stdout",
     "output_type": "stream",
     "text": [
      "Number of Male Users: \n",
      "Number of Female Users: \n"
     ]
    }
   ],
   "source": [
    "#   Get the total number of both male and female users\n",
    "\n",
    "#   Use the sum() function to count the number of Male users\n",
    "#   in the users dataset based on their gender\n",
    "print('Number of Male Users: ')\n",
    "#print(sum(users['sex'] == 'M'))\n",
    "\n",
    "#   Use the sum() function to count the number of Female users\n",
    "#   in the users dataset based on their gender\n",
    "print('Number of Female Users: ')\n",
    "#print(sum(users['sex'] == 'F'))\n"
   ]
  },
  {
   "cell_type": "markdown",
   "metadata": {},
   "source": [
    "# SECTION 13\n",
    "### pandas Wrap-Up\n",
    "-\tTest your understanding of the content by putting it to practice!\n",
    "-\t***Do your best to implement your own versions of the following using the different data-sets and examples provided above:***\n"
   ]
  },
  {
   "cell_type": "code",
   "execution_count": 25,
   "metadata": {
    "collapsed": true
   },
   "outputs": [],
   "source": [
    "# Create a data frame\n",
    "\n",
    "# Get a sub-frame\n",
    "\n",
    "# Filter data\n",
    "\n",
    "# Use group-by\n",
    "\n",
    "# Apply a user defined function\n"
   ]
  },
  {
   "cell_type": "code",
   "execution_count": 26,
   "metadata": {},
   "outputs": [
    {
     "data": {
      "application/json": {
       "cell": {
        "!": "OSMagics",
        "HTML": "Other",
        "SVG": "Other",
        "bash": "Other",
        "capture": "ExecutionMagics",
        "cmd": "Other",
        "debug": "ExecutionMagics",
        "file": "Other",
        "html": "DisplayMagics",
        "javascript": "DisplayMagics",
        "js": "DisplayMagics",
        "latex": "DisplayMagics",
        "perl": "Other",
        "prun": "ExecutionMagics",
        "pypy": "Other",
        "python": "Other",
        "python2": "Other",
        "python3": "Other",
        "ruby": "Other",
        "script": "ScriptMagics",
        "sh": "Other",
        "svg": "DisplayMagics",
        "sx": "OSMagics",
        "system": "OSMagics",
        "time": "ExecutionMagics",
        "timeit": "ExecutionMagics",
        "writefile": "OSMagics"
       },
       "line": {
        "alias": "OSMagics",
        "alias_magic": "BasicMagics",
        "autocall": "AutoMagics",
        "automagic": "AutoMagics",
        "autosave": "KernelMagics",
        "bookmark": "OSMagics",
        "cd": "OSMagics",
        "clear": "KernelMagics",
        "cls": "KernelMagics",
        "colors": "BasicMagics",
        "config": "ConfigMagics",
        "connect_info": "KernelMagics",
        "copy": "Other",
        "ddir": "Other",
        "debug": "ExecutionMagics",
        "dhist": "OSMagics",
        "dirs": "OSMagics",
        "doctest_mode": "BasicMagics",
        "echo": "Other",
        "ed": "Other",
        "edit": "KernelMagics",
        "env": "OSMagics",
        "gui": "BasicMagics",
        "hist": "Other",
        "history": "HistoryMagics",
        "killbgscripts": "ScriptMagics",
        "ldir": "Other",
        "less": "KernelMagics",
        "load": "CodeMagics",
        "load_ext": "ExtensionMagics",
        "loadpy": "CodeMagics",
        "logoff": "LoggingMagics",
        "logon": "LoggingMagics",
        "logstart": "LoggingMagics",
        "logstate": "LoggingMagics",
        "logstop": "LoggingMagics",
        "ls": "Other",
        "lsmagic": "BasicMagics",
        "macro": "ExecutionMagics",
        "magic": "BasicMagics",
        "matplotlib": "PylabMagics",
        "mkdir": "Other",
        "more": "KernelMagics",
        "notebook": "BasicMagics",
        "page": "BasicMagics",
        "pastebin": "CodeMagics",
        "pdb": "ExecutionMagics",
        "pdef": "NamespaceMagics",
        "pdoc": "NamespaceMagics",
        "pfile": "NamespaceMagics",
        "pinfo": "NamespaceMagics",
        "pinfo2": "NamespaceMagics",
        "popd": "OSMagics",
        "pprint": "BasicMagics",
        "precision": "BasicMagics",
        "profile": "BasicMagics",
        "prun": "ExecutionMagics",
        "psearch": "NamespaceMagics",
        "psource": "NamespaceMagics",
        "pushd": "OSMagics",
        "pwd": "OSMagics",
        "pycat": "OSMagics",
        "pylab": "PylabMagics",
        "qtconsole": "KernelMagics",
        "quickref": "BasicMagics",
        "recall": "HistoryMagics",
        "rehashx": "OSMagics",
        "reload_ext": "ExtensionMagics",
        "ren": "Other",
        "rep": "Other",
        "rerun": "HistoryMagics",
        "reset": "NamespaceMagics",
        "reset_selective": "NamespaceMagics",
        "rmdir": "Other",
        "run": "ExecutionMagics",
        "save": "CodeMagics",
        "sc": "OSMagics",
        "set_env": "OSMagics",
        "store": "StoreMagics",
        "sx": "OSMagics",
        "system": "OSMagics",
        "tb": "ExecutionMagics",
        "time": "ExecutionMagics",
        "timeit": "ExecutionMagics",
        "unalias": "OSMagics",
        "unload_ext": "ExtensionMagics",
        "who": "NamespaceMagics",
        "who_ls": "NamespaceMagics",
        "whos": "NamespaceMagics",
        "xdel": "NamespaceMagics",
        "xmode": "BasicMagics"
       }
      },
      "text/plain": [
       "Available line magics:\n",
       "%alias  %alias_magic  %autocall  %automagic  %autosave  %bookmark  %cd  %clear  %cls  %colors  %config  %connect_info  %copy  %ddir  %debug  %dhist  %dirs  %doctest_mode  %echo  %ed  %edit  %env  %gui  %hist  %history  %killbgscripts  %ldir  %less  %load  %load_ext  %loadpy  %logoff  %logon  %logstart  %logstate  %logstop  %ls  %lsmagic  %macro  %magic  %matplotlib  %mkdir  %more  %notebook  %page  %pastebin  %pdb  %pdef  %pdoc  %pfile  %pinfo  %pinfo2  %popd  %pprint  %precision  %profile  %prun  %psearch  %psource  %pushd  %pwd  %pycat  %pylab  %qtconsole  %quickref  %recall  %rehashx  %reload_ext  %ren  %rep  %rerun  %reset  %reset_selective  %rmdir  %run  %save  %sc  %set_env  %store  %sx  %system  %tb  %time  %timeit  %unalias  %unload_ext  %who  %who_ls  %whos  %xdel  %xmode\n",
       "\n",
       "Available cell magics:\n",
       "%%!  %%HTML  %%SVG  %%bash  %%capture  %%cmd  %%debug  %%file  %%html  %%javascript  %%js  %%latex  %%perl  %%prun  %%pypy  %%python  %%python2  %%python3  %%ruby  %%script  %%sh  %%svg  %%sx  %%system  %%time  %%timeit  %%writefile\n",
       "\n",
       "Automagic is ON, % prefix IS NOT needed for line magics."
      ]
     },
     "execution_count": 26,
     "metadata": {},
     "output_type": "execute_result"
    }
   ],
   "source": [
    "# Line Magic Keywords\n",
    "# Built in magical functions\n",
    "\n",
    "# Run the code below to enable AutoMagic in your notebook\n",
    "%lsmagic"
   ]
  },
  {
   "cell_type": "code",
   "execution_count": null,
   "metadata": {
    "collapsed": true
   },
   "outputs": [],
   "source": []
  }
 ],
 "metadata": {
  "kernelspec": {
   "display_name": "Python 3",
   "language": "python",
   "name": "python3"
  },
  "language_info": {
   "codemirror_mode": {
    "name": "ipython",
    "version": 3
   },
   "file_extension": ".py",
   "mimetype": "text/x-python",
   "name": "python",
   "nbconvert_exporter": "python",
   "pygments_lexer": "ipython3",
   "version": "3.6.1"
  }
 },
 "nbformat": 4,
 "nbformat_minor": 2
}
