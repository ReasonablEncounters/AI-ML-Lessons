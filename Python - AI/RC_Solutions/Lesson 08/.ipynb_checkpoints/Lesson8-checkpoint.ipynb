{
 "cells": [
  {
   "cell_type": "markdown",
   "metadata": {},
   "source": [
    "<img style=\"width:450px;\" src=\"https://durhamcollege.ca/wp-content/uploads/ai-hub-header.jpg\" alt=\"DC Logo\"/>"
   ]
  },
  {
   "cell_type": "markdown",
   "metadata": {},
   "source": [
    "# LESSON 8 - Polynomial Regression\n",
    "\n",
    "## <span style=\"color: green\">OVERVIEW</span>\n",
    "\n",
    "In this lesson we will quickly review Polynomial Regression, also sometimes referred to as a form of Multiple-Linear regression. After which you will do some practical work with linear, logistic and polynomial.\n",
    "\n",
    "In general, polynomial regression is the usage of curved instead of straight lines when analyzing the best fit of a series of data-points. It can be used in multiple different ways but its general purpose is curve fitting.\n",
    "\n",
    "This is achieved using feature selection to determine the data-points that are best represented by the use of a curve as opposed to a line. This is something that you will most likely have to assess visually as you are preparing both your testing and training data.\n",
    "\n",
    "More formally, these curved lines are referred to as an Nth degree polynomial. Polynomial regression allows us to analyze data in multiple ways and find patterns that are potentially abstract. However, this abstract data can occasionally increase overall learning and prediction if used in addition to other methods. Which is really the main usage of polynomial regression in machine learning, as it accounts for flexibility and enables more complex regression when used in conjunction with other methods."
   ]
  },
  {
   "cell_type": "markdown",
   "metadata": {},
   "source": [
    "<img style=\"width:350px;\" src=\"http://api.ning.com/files/lihD20i2jrw163Eb7AL8EhBuX4o2PanX83Vux57D4mDA2lU5*2p1ER22HLa95iwNbs7hqUwkiHpD5AKJIsYPtdiKIJGLivV0/Capture.PNG\" alt=\"Poly and Linear Example\" />"
   ]
  },
  {
   "cell_type": "markdown",
   "metadata": {},
   "source": [
    "### <span style=\"color: blue\">Degrees of Polynomials</span>\n",
    "\n",
    "As you will notice after closely observing the image below, you can determine a polynomial by both the sections between curves; As well as, the function used to define the curve.\n",
    "\n",
    "Understanding what this means in terms of processing data is that you need to consider very carefully which data-points in your data-set have correlations in terms of what you are assessing.\n",
    "\n",
    "You can usually determine this by visualizing data in a graph to determine commonalities, this can also be achieved sometimes by simply analyzing the logical progression of the relationships of the data-headers for each data-point you want to interpolate. (Google Graphviz, it's great for that!)\n"
   ]
  },
  {
   "cell_type": "markdown",
   "metadata": {
    "collapsed": true
   },
   "source": [
    "<img src=\"Content/nthdegrees.png\" />"
   ]
  },
  {
   "cell_type": "markdown",
   "metadata": {},
   "source": [
    "### <span style=\"color: blue\">Practical Application</span>\n",
    "\n",
    "You will find a practical application of polynomial regression at the end of the next lesson (9). Which will give you a better understanding of how it fits into the process of data analysis."
   ]
  },
  {
   "cell_type": "code",
   "execution_count": null,
   "metadata": {
    "collapsed": true
   },
   "outputs": [],
   "source": []
  }
 ],
 "metadata": {
  "kernelspec": {
   "display_name": "Python 3",
   "language": "python",
   "name": "python3"
  },
  "language_info": {
   "codemirror_mode": {
    "name": "ipython",
    "version": 3
   },
   "file_extension": ".py",
   "mimetype": "text/x-python",
   "name": "python",
   "nbconvert_exporter": "python",
   "pygments_lexer": "ipython3",
   "version": "3.6.3"
  }
 },
 "nbformat": 4,
 "nbformat_minor": 2
}
