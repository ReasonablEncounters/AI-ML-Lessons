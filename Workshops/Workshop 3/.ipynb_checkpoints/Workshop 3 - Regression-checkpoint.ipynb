{
 "cells": [
  {
   "cell_type": "markdown",
   "metadata": {},
   "source": [
    "<img src=\"https://img.evbuc.com/https%3A%2F%2Fcdn.evbuc.com%2Fimages%2F35801123%2F133383632059%2F1%2Foriginal.jpg?w=800&rect=0%2C0%2C2160%2C1080&s=6e2b5901c09d9a6e687ed09a66372984\" alt=\"DC Logo\" style=\"width: 900px;float:left;\"/>"
   ]
  },
  {
   "cell_type": "markdown",
   "metadata": {},
   "source": [
    "# WORKSHOP 3\n",
    "## <span style=\"color:green\">Regression</span>\n",
    "\n",
    "**Background:** This workshop will focus on 3 types of regression techniques - Linear, Logistic, and Polynomial."
   ]
  },
  {
   "cell_type": "markdown",
   "metadata": {},
   "source": [
    "## Let's get started!\n",
    "\n",
    "- <span style=\"color: blue\">**Answer any questions in bold and blue in the code block(cell) below each section.** </span>\n",
    "  \n",
    "- <span style=\"color: green\">*Any statements in italic and green are for consideration and should help guide you to understand the code involved.* </span>\n",
    "\n",
    "# <span style=\"color:green\">SECTION 1</span>\n",
    "## Linear Regression"
   ]
  },
  {
   "cell_type": "code",
   "execution_count": 83,
   "metadata": {
    "collapsed": true
   },
   "outputs": [],
   "source": [
    "# imports\n",
    "import numpy as np\n",
    "from sklearn import linear_model\n",
    "import matplotlib.pyplot as plt\n",
    "import pandas as pd\n",
    "\n",
    "# this allows plots to appear directly in the notebook\n",
    "%matplotlib inline"
   ]
  },
  {
   "cell_type": "markdown",
   "metadata": {},
   "source": [
    "## Data\n",
    "**Lets take a look at some data, ask some questions and use linear regression to solve said questions**"
   ]
  },
  {
   "cell_type": "code",
   "execution_count": 84,
   "metadata": {},
   "outputs": [
    {
     "data": {
      "text/html": [
       "<div>\n",
       "<style>\n",
       "    .dataframe thead tr:only-child th {\n",
       "        text-align: right;\n",
       "    }\n",
       "\n",
       "    .dataframe thead th {\n",
       "        text-align: left;\n",
       "    }\n",
       "\n",
       "    .dataframe tbody tr th {\n",
       "        vertical-align: top;\n",
       "    }\n",
       "</style>\n",
       "<table border=\"1\" class=\"dataframe\">\n",
       "  <thead>\n",
       "    <tr style=\"text-align: right;\">\n",
       "      <th></th>\n",
       "      <th>Date</th>\n",
       "      <th>Open</th>\n",
       "      <th>High</th>\n",
       "      <th>Low</th>\n",
       "      <th>Close</th>\n",
       "      <th>Volume</th>\n",
       "    </tr>\n",
       "  </thead>\n",
       "  <tbody>\n",
       "    <tr>\n",
       "      <th>0</th>\n",
       "      <td>26-Feb-16</td>\n",
       "      <td>708.58</td>\n",
       "      <td>713.43</td>\n",
       "      <td>700.86</td>\n",
       "      <td>705.07</td>\n",
       "      <td>2239978</td>\n",
       "    </tr>\n",
       "    <tr>\n",
       "      <th>1</th>\n",
       "      <td>25-Feb-16</td>\n",
       "      <td>700.01</td>\n",
       "      <td>705.98</td>\n",
       "      <td>690.58</td>\n",
       "      <td>705.75</td>\n",
       "      <td>1631855</td>\n",
       "    </tr>\n",
       "    <tr>\n",
       "      <th>2</th>\n",
       "      <td>24-Feb-16</td>\n",
       "      <td>688.92</td>\n",
       "      <td>700.00</td>\n",
       "      <td>680.78</td>\n",
       "      <td>699.56</td>\n",
       "      <td>1958611</td>\n",
       "    </tr>\n",
       "    <tr>\n",
       "      <th>3</th>\n",
       "      <td>23-Feb-16</td>\n",
       "      <td>701.45</td>\n",
       "      <td>708.40</td>\n",
       "      <td>693.58</td>\n",
       "      <td>695.85</td>\n",
       "      <td>1999699</td>\n",
       "    </tr>\n",
       "    <tr>\n",
       "      <th>4</th>\n",
       "      <td>22-Feb-16</td>\n",
       "      <td>707.45</td>\n",
       "      <td>713.24</td>\n",
       "      <td>702.51</td>\n",
       "      <td>706.46</td>\n",
       "      <td>1946067</td>\n",
       "    </tr>\n",
       "  </tbody>\n",
       "</table>\n",
       "</div>"
      ],
      "text/plain": [
       "        Date    Open    High     Low   Close   Volume\n",
       "0  26-Feb-16  708.58  713.43  700.86  705.07  2239978\n",
       "1  25-Feb-16  700.01  705.98  690.58  705.75  1631855\n",
       "2  24-Feb-16  688.92  700.00  680.78  699.56  1958611\n",
       "3  23-Feb-16  701.45  708.40  693.58  695.85  1999699\n",
       "4  22-Feb-16  707.45  713.24  702.51  706.46  1946067"
      ]
     },
     "execution_count": 84,
     "metadata": {},
     "output_type": "execute_result"
    }
   ],
   "source": [
    "# read data into a DataFrame\n",
    "data = pd.read_csv('./goog.csv')\n",
    "data.head()"
   ]
  },
  {
   "cell_type": "code",
   "execution_count": 85,
   "metadata": {},
   "outputs": [],
   "source": [
    "dates = [int(i.split('-')[0]) for i in np.array(data)[:,0]]\n",
    "prices = np.array(data)[:,1]\n",
    "# high = np.array(data)[:,2]\n",
    "\n",
    "prices = np.array([prices]).T\n",
    "dates = np.array([dates]).T\n",
    "# high = np.array([high]).T\n",
    "# prices = np.hstack((prices, high))\n",
    "\n",
    "# print(dates)\n",
    "# print(prices)"
   ]
  },
  {
   "cell_type": "code",
   "execution_count": 86,
   "metadata": {
    "collapsed": true
   },
   "outputs": [],
   "source": [
    "def predict_price(dates, prices, x):\n",
    "    linear_mod = linear_model.LinearRegression()\n",
    "    linear_mod.fit(dates, prices)\n",
    "    predicted_price = linear_mod.predict(x)\n",
    "    return predicted_price, linear_mod.coef_, linear_mod.intercept_\n",
    "#     return predicted_price, linear_mod"
   ]
  },
  {
   "cell_type": "code",
   "execution_count": 87,
   "metadata": {
    "collapsed": true
   },
   "outputs": [],
   "source": [
    "def show_plot(dates, prices):\n",
    "    linear_mod = linear_model.LinearRegression()\n",
    "    linear_mod.fit(dates, prices)\n",
    "    plt.scatter(dates, prices, color='lime')\n",
    "    plt.plot(dates, linear_mod.predict(dates), color='blue', linewidth=3)\n",
    "    plt.show()\n",
    "    return"
   ]
  },
  {
   "cell_type": "code",
   "execution_count": 88,
   "metadata": {},
   "outputs": [
    {
     "name": "stdout",
     "output_type": "stream",
     "text": [
      "(array([[ 680.9255198]]), array([[-1.65535515]]), array([ 728.93081909]))\n"
     ]
    }
   ],
   "source": [
    "print(predict_price(dates, prices, 29))"
   ]
  },
  {
   "cell_type": "code",
   "execution_count": 89,
   "metadata": {},
   "outputs": [
    {
     "data": {
      "image/png": "[encoded data removed]",
      "text/plain": [
       "<matplotlib.figure.Figure at 0x1e171ca9d68>"
      ]
     },
     "metadata": {},
     "output_type": "display_data"
    }
   ],
   "source": [
    "show_plot(dates, prices)"
   ]
  },
  {
   "cell_type": "markdown",
   "metadata": {},
   "source": [
    "# <span style=\"color:green\">SECTION 2</span>\n",
    "### Logistic Regression"
   ]
  },
  {
   "cell_type": "code",
   "execution_count": 90,
   "metadata": {
    "collapsed": true
   },
   "outputs": [],
   "source": [
    "import numpy as np\n",
    "import matplotlib.pyplot as plt\n",
    "import pandas as pd\n",
    "from sklearn import linear_model, datasets"
   ]
  },
  {
   "cell_type": "code",
   "execution_count": 91,
   "metadata": {
    "collapsed": true
   },
   "outputs": [],
   "source": [
    "# import some data to play with\n",
    "iris = datasets.load_iris()\n",
    "df = pd.DataFrame(np.c_[iris.data, iris.target], columns = [\"Sepal Length\", \"Sepal Width\", \"Petal Length\", \"Petal Width\", \"Class\"])\n",
    "\n",
    "\n",
    "data = np.c_[iris.data[:, :2], iris.target] # we only take the first two features.\n",
    "np.random.shuffle(data)\n",
    "\n",
    "test_training_split = 0.7\n",
    "\n",
    "X = data[:, :2]  # we only take the first two features.\n",
    "y = data[:, 2:]\n",
    "\n",
    "X_training = X[:int(X.shape[0]*test_training_split),:]\n",
    "y_training = y[:int(y.shape[0]*test_training_split)]\n",
    "\n",
    "X_testing = X[int(X.shape[0]*test_training_split):,:]\n",
    "y_testing = y[int(y.shape[0]*test_training_split):]"
   ]
  },
  {
   "cell_type": "markdown",
   "metadata": {},
   "source": [
    "**Classes:**\n",
    "- Iris Setosa \n",
    "- Iris Versicolour \n",
    "- Iris Virginica\n",
    "\n",
    "### Now it's time to take a look at our data to make sure everything looks okay"
   ]
  },
  {
   "cell_type": "code",
   "execution_count": 114,
   "metadata": {},
   "outputs": [
    {
     "name": "stdout",
     "output_type": "stream",
     "text": [
      "[[ 0.]\n",
      " [ 0.]\n",
      " [ 0.]\n",
      " [ 2.]\n",
      " [ 2.]\n",
      " [ 1.]\n",
      " [ 2.]\n",
      " [ 0.]\n",
      " [ 2.]\n",
      " [ 1.]\n",
      " [ 1.]\n",
      " [ 0.]\n",
      " [ 2.]\n",
      " [ 1.]\n",
      " [ 1.]\n",
      " [ 0.]\n",
      " [ 2.]\n",
      " [ 2.]\n",
      " [ 2.]\n",
      " [ 1.]\n",
      " [ 0.]\n",
      " [ 2.]\n",
      " [ 0.]\n",
      " [ 2.]\n",
      " [ 1.]\n",
      " [ 0.]\n",
      " [ 0.]\n",
      " [ 1.]\n",
      " [ 1.]\n",
      " [ 1.]\n",
      " [ 2.]\n",
      " [ 1.]\n",
      " [ 2.]\n",
      " [ 1.]\n",
      " [ 2.]\n",
      " [ 1.]\n",
      " [ 1.]\n",
      " [ 1.]\n",
      " [ 0.]\n",
      " [ 0.]\n",
      " [ 1.]\n",
      " [ 0.]\n",
      " [ 0.]\n",
      " [ 1.]\n",
      " [ 1.]]\n",
      "[ 0.  0.  0.  2.  2.  1.  2.  0.  2.  1.  1.  0.  2.  1.  1.  0.  2.  2.\n",
      "  2.  1.  0.  2.  0.  2.  1.  0.  0.  1.  1.  1.  2.  1.  2.  1.  2.  1.\n",
      "  1.  1.  0.  0.  1.  0.  0.  1.  1.]\n",
      "(45, 1)\n"
     ]
    }
   ],
   "source": [
    "print(y_testing)\n",
    "print(y_testing.ravel())\n",
    "print(y_testing.shape)"
   ]
  },
  {
   "cell_type": "markdown",
   "metadata": {},
   "source": [
    "### Looks good, let's initialize our logistic regression function imported from sklearn"
   ]
  },
  {
   "cell_type": "code",
   "execution_count": 93,
   "metadata": {
    "collapsed": true
   },
   "outputs": [],
   "source": [
    "logreg = linear_model.LogisticRegression()"
   ]
  },
  {
   "cell_type": "code",
   "execution_count": 94,
   "metadata": {},
   "outputs": [
    {
     "data": {
      "text/plain": [
       "LogisticRegression(C=1.0, class_weight=None, dual=False, fit_intercept=True,\n",
       "          intercept_scaling=1, max_iter=100, multi_class='ovr', n_jobs=1,\n",
       "          penalty='l2', random_state=None, solver='liblinear', tol=0.0001,\n",
       "          verbose=0, warm_start=False)"
      ]
     },
     "execution_count": 94,
     "metadata": {},
     "output_type": "execute_result"
    }
   ],
   "source": [
    "# We use the initialized function and fit the data.\n",
    "logreg.fit(X_training, y_training.ravel())"
   ]
  },
  {
   "cell_type": "code",
   "execution_count": 95,
   "metadata": {
    "collapsed": true
   },
   "outputs": [],
   "source": [
    "Z = logreg.predict(X_testing)"
   ]
  },
  {
   "cell_type": "code",
   "execution_count": 96,
   "metadata": {
    "collapsed": true
   },
   "outputs": [],
   "source": [
    "def classification_rate(y, Z):\n",
    "    num_right = 0\n",
    "    for i in range(len(Z)):\n",
    "        if y[i] == Z[i]:\n",
    "            num_right = num_right + 1\n",
    "    return num_right/Z.shape[0]"
   ]
  },
  {
   "cell_type": "code",
   "execution_count": 97,
   "metadata": {},
   "outputs": [
    {
     "data": {
      "text/plain": [
       "0.6222222222222222"
      ]
     },
     "execution_count": 97,
     "metadata": {},
     "output_type": "execute_result"
    }
   ],
   "source": [
    "classification_rate(y_testing.ravel(), Z)"
   ]
  },
  {
   "cell_type": "markdown",
   "metadata": {},
   "source": [
    "## Well this isn't that great now is it?\n",
    "### What comes next?\n",
    "\n",
    "Let's begin implementing k-fold cross validation training and see what our output is"
   ]
  },
  {
   "cell_type": "code",
   "execution_count": 98,
   "metadata": {},
   "outputs": [],
   "source": [
    "from sklearn import metrics, cross_validation\n",
    "from sklearn.linear_model import LogisticRegression"
   ]
  },
  {
   "cell_type": "code",
   "execution_count": 99,
   "metadata": {},
   "outputs": [],
   "source": [
    "Z_cross_validation = cross_validation.cross_val_predict(LogisticRegression(), X, y.ravel(), cv=10)"
   ]
  },
  {
   "cell_type": "code",
   "execution_count": 100,
   "metadata": {},
   "outputs": [
    {
     "data": {
      "text/plain": [
       "0.7733333333333333"
      ]
     },
     "execution_count": 100,
     "metadata": {},
     "output_type": "execute_result"
    }
   ],
   "source": [
    "classification_rate(y.ravel(), Z_cross_validation)"
   ]
  },
  {
   "cell_type": "markdown",
   "metadata": {},
   "source": [
    "## Not much better...\n",
    "#### There are many different classification algorithms sklearn has available to utilize in a much similar way to what was shown above. If you're interested, try playing around with the following:\n",
    "1. SVM\n",
    "2. Naive Bayes\n",
    "3. Decision Trees\n",
    "4. Random Forests\n",
    "5. Neural Networks"
   ]
  },
  {
   "cell_type": "markdown",
   "metadata": {},
   "source": [
    "# <span style=\"color:green\">SECTION 3</span>\n",
    "### Polynomial Regression"
   ]
  },
  {
   "cell_type": "code",
   "execution_count": 101,
   "metadata": {
    "collapsed": true
   },
   "outputs": [],
   "source": [
    "import numpy as np\n",
    "# from scipy.interpolate import *\n",
    "import matplotlib.pyplot as plt\n",
    "\n",
    "%matplotlib inline"
   ]
  },
  {
   "cell_type": "markdown",
   "metadata": {},
   "source": [
    "### We're going to take a look at some synthetic data for this one\n",
    "Hopefully this will help visualize what's going on a bit better"
   ]
  },
  {
   "cell_type": "code",
   "execution_count": 102,
   "metadata": {
    "collapsed": true
   },
   "outputs": [],
   "source": [
    "# Create a couple arrays with \n",
    "X = np.array([0,1,2,3,4,5])\n",
    "y = np.array([0,0.8,0.9,0.1,-0.8,-1])"
   ]
  },
  {
   "cell_type": "code",
   "execution_count": 103,
   "metadata": {},
   "outputs": [
    {
     "name": "stdout",
     "output_type": "stream",
     "text": [
      "[0 1 2 3 4 5]\n"
     ]
    }
   ],
   "source": [
    "print(X)"
   ]
  },
  {
   "cell_type": "code",
   "execution_count": 104,
   "metadata": {},
   "outputs": [
    {
     "name": "stdout",
     "output_type": "stream",
     "text": [
      "[ 0.   0.8  0.9  0.1 -0.8 -1. ]\n"
     ]
    }
   ],
   "source": [
    "print(y)"
   ]
  },
  {
   "cell_type": "markdown",
   "metadata": {},
   "source": [
    "**Let's begin fitting our data. The polyfit method uses the sum of square errors to. compute the line of best fit. In this first piece of code, we're going to stick with a straight line**"
   ]
  },
  {
   "cell_type": "code",
   "execution_count": 105,
   "metadata": {
    "collapsed": true
   },
   "outputs": [],
   "source": [
    "# The last parameters is a 1 for now as we'll do linear to begin with\n",
    "p1 = np.polyfit(X, y, 1)"
   ]
  },
  {
   "cell_type": "code",
   "execution_count": 106,
   "metadata": {},
   "outputs": [
    {
     "name": "stdout",
     "output_type": "stream",
     "text": [
      "[-0.30285714  0.75714286]\n"
     ]
    }
   ],
   "source": [
    "# This just prints the slope and intercept\n",
    "print(p1)"
   ]
  },
  {
   "cell_type": "code",
   "execution_count": 107,
   "metadata": {},
   "outputs": [
    {
     "data": {
      "text/plain": [
       "[<matplotlib.lines.Line2D at 0x1e171d7d978>]"
      ]
     },
     "execution_count": 107,
     "metadata": {},
     "output_type": "execute_result"
    },
    {
     "data": {
      "image/png": "[encoded data removed]",
      "text/plain": [
       "<matplotlib.figure.Figure at 0x1e171d862e8>"
      ]
     },
     "metadata": {},
     "output_type": "display_data"
    }
   ],
   "source": [
    "# polyval just helps plot the data with respect to the slope, intercept, and data. \n",
    "# r- is just for red line\n",
    "plt.plot(X,y,'o')\n",
    "plt.plot(X, np.polyval(p1, X), 'r-')\n",
    "# np.polyval(p1, X)"
   ]
  },
  {
   "cell_type": "code",
   "execution_count": 108,
   "metadata": {
    "collapsed": true
   },
   "outputs": [],
   "source": [
    "p2 = np.polyfit(X, y, 2)\n",
    "p3 = np.polyfit(X, y, 3)"
   ]
  },
  {
   "cell_type": "code",
   "execution_count": 109,
   "metadata": {},
   "outputs": [
    {
     "data": {
      "text/plain": [
       "array([-0.30285714,  0.75714286])"
      ]
     },
     "execution_count": 109,
     "metadata": {},
     "output_type": "execute_result"
    }
   ],
   "source": [
    "p1 # y = Ax + b"
   ]
  },
  {
   "cell_type": "code",
   "execution_count": 110,
   "metadata": {},
   "outputs": [
    {
     "data": {
      "text/plain": [
       "array([-0.16071429,  0.50071429,  0.22142857])"
      ]
     },
     "execution_count": 110,
     "metadata": {},
     "output_type": "execute_result"
    }
   ],
   "source": [
    "p2 # y = Ax^2 + Bx + C"
   ]
  },
  {
   "cell_type": "code",
   "execution_count": 111,
   "metadata": {},
   "outputs": [
    {
     "data": {
      "text/plain": [
       "array([ 0.08703704, -0.81349206,  1.69312169, -0.03968254])"
      ]
     },
     "execution_count": 111,
     "metadata": {},
     "output_type": "execute_result"
    }
   ],
   "source": [
    "p3 # y = Ax^3 + Bx^2 + Cx + D"
   ]
  },
  {
   "cell_type": "code",
   "execution_count": 112,
   "metadata": {},
   "outputs": [
    {
     "data": {
      "text/plain": [
       "[<matplotlib.lines.Line2D at 0x1e171df1da0>]"
      ]
     },
     "execution_count": 112,
     "metadata": {},
     "output_type": "execute_result"
    },
    {
     "data": {
      "image/png": "[encoded data removed]",
      "text/plain": [
       "<matplotlib.figure.Figure at 0x1e171c26940>"
      ]
     },
     "metadata": {},
     "output_type": "display_data"
    }
   ],
   "source": [
    "plt.plot(X,y,'o')\n",
    "\n",
    "xp = X\n",
    "# xp = np.linspace(-2,6,100)\n",
    "\n",
    "plt.plot(xp, np.polyval(p1,xp), 'r-')\n",
    "plt.plot(xp, np.polyval(p2,xp), 'b--')\n",
    "plt.plot(xp, np.polyval(p3,xp), 'm:')"
   ]
  },
  {
   "cell_type": "code",
   "execution_count": 113,
   "metadata": {},
   "outputs": [
    {
     "data": {
      "text/plain": [
       "array([ 0.75714286,  0.45428571,  0.15142857, -0.15142857, -0.45428571,\n",
       "       -0.75714286])"
      ]
     },
     "execution_count": 113,
     "metadata": {},
     "output_type": "execute_result"
    }
   ],
   "source": [
    "np.polyval(p1,xp)"
   ]
  },
  {
   "cell_type": "code",
   "execution_count": null,
   "metadata": {
    "collapsed": true
   },
   "outputs": [],
   "source": []
  }
 ],
 "metadata": {
  "kernelspec": {
   "display_name": "Python 3",
   "language": "python",
   "name": "python3"
  },
  "language_info": {
   "codemirror_mode": {
    "name": "ipython",
    "version": 3
   },
   "file_extension": ".py",
   "mimetype": "text/x-python",
   "name": "python",
   "nbconvert_exporter": "python",
   "pygments_lexer": "ipython3",
   "version": "3.6.1"
  }
 },
 "nbformat": 4,
 "nbformat_minor": 2
}
