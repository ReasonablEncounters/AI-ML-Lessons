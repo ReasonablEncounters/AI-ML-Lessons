{
 "cells": [
  {
   "cell_type": "code",
   "execution_count": 1,
   "metadata": {
    "collapsed": true
   },
   "outputs": [],
   "source": [
    "import numpy as np\n",
    "# from scipy.interpolate import *\n",
    "import matplotlib.pyplot as plt\n",
    "\n",
    "%matplotlib inline"
   ]
  },
  {
   "cell_type": "markdown",
   "metadata": {},
   "source": [
    "### We're going to take a look at some synthetic data for this one\n",
    "Hopefully this will help visualize what's going on a bit better"
   ]
  },
  {
   "cell_type": "code",
   "execution_count": 2,
   "metadata": {
    "collapsed": true
   },
   "outputs": [],
   "source": [
    "# Create a couple arrays with \n",
    "X = np.array([0,1,2,3,4,5])\n",
    "y = np.array([0,0.8,0.9,0.1,-0.8,-1])"
   ]
  },
  {
   "cell_type": "code",
   "execution_count": 3,
   "metadata": {},
   "outputs": [
    {
     "name": "stdout",
     "output_type": "stream",
     "text": [
      "[0 1 2 3 4 5]\n"
     ]
    }
   ],
   "source": [
    "print(X)"
   ]
  },
  {
   "cell_type": "code",
   "execution_count": 4,
   "metadata": {},
   "outputs": [
    {
     "name": "stdout",
     "output_type": "stream",
     "text": [
      "[ 0.   0.8  0.9  0.1 -0.8 -1. ]\n"
     ]
    }
   ],
   "source": [
    "print(y)"
   ]
  },
  {
   "cell_type": "markdown",
   "metadata": {},
   "source": [
    "Let's begin fitting our data. The polyfit method uses the sum of square errors to compute the line of best fit. In this first piece of code, we're going to stick with a straight line"
   ]
  },
  {
   "cell_type": "code",
   "execution_count": 5,
   "metadata": {
    "collapsed": true
   },
   "outputs": [],
   "source": [
    "# The last parameters is a 1 for now as we'll do linear to begin with\n",
    "p1 = np.polyfit(X, y, 1)"
   ]
  },
  {
   "cell_type": "code",
   "execution_count": 6,
   "metadata": {},
   "outputs": [
    {
     "name": "stdout",
     "output_type": "stream",
     "text": [
      "[-0.30285714  0.75714286]\n"
     ]
    }
   ],
   "source": [
    "# This just prints the slope and intercept\n",
    "print(p1)"
   ]
  },
  {
   "cell_type": "code",
   "execution_count": 8,
   "metadata": {},
   "outputs": [
    {
     "data": {
      "text/plain": [
       "[<matplotlib.lines.Line2D at 0x274883a7390>]"
      ]
     },
     "execution_count": 8,
     "metadata": {},
     "output_type": "execute_result"
    },
    {
     "data": {
      "image/png": "[encoded data removed]",
      "text/plain": [
       "<matplotlib.figure.Figure at 0x274883a74a8>"
      ]
     },
     "metadata": {},
     "output_type": "display_data"
    }
   ],
   "source": [
    "# polyval just helps plot the data with respect to the slope, intercept, and data. \n",
    "# r- is just for red line\n",
    "plt.plot(X,y,'o')\n",
    "plt.plot(X, np.polyval(p1, X), 'r-')\n",
    "# np.polyval(p1, X)"
   ]
  },
  {
   "cell_type": "markdown",
   "metadata": {},
   "source": [
    "### Now we'll move on to quadratric and cubes functions"
   ]
  },
  {
   "cell_type": "code",
   "execution_count": 10,
   "metadata": {
    "collapsed": true
   },
   "outputs": [],
   "source": [
    "p2 = np.polyfit(X, y, 2)\n",
    "p3 = np.polyfit(X, y, 3)"
   ]
  },
  {
   "cell_type": "code",
   "execution_count": 9,
   "metadata": {},
   "outputs": [
    {
     "data": {
      "text/plain": [
       "array([-0.30285714,  0.75714286])"
      ]
     },
     "execution_count": 9,
     "metadata": {},
     "output_type": "execute_result"
    }
   ],
   "source": [
    "p1 # y = Ax + b"
   ]
  },
  {
   "cell_type": "code",
   "execution_count": 11,
   "metadata": {},
   "outputs": [
    {
     "data": {
      "text/plain": [
       "array([-0.16071429,  0.50071429,  0.22142857])"
      ]
     },
     "execution_count": 11,
     "metadata": {},
     "output_type": "execute_result"
    }
   ],
   "source": [
    "p2 # y = Ax^2 + Bx + C"
   ]
  },
  {
   "cell_type": "code",
   "execution_count": 12,
   "metadata": {},
   "outputs": [
    {
     "data": {
      "text/plain": [
       "array([ 0.08703704, -0.81349206,  1.69312169, -0.03968254])"
      ]
     },
     "execution_count": 12,
     "metadata": {},
     "output_type": "execute_result"
    }
   ],
   "source": [
    "p3 # y = Ax^3 + Bx^2 + Cx + D"
   ]
  },
  {
   "cell_type": "code",
   "execution_count": 16,
   "metadata": {},
   "outputs": [
    {
     "data": {
      "text/plain": [
       "[<matplotlib.lines.Line2D at 0x274885b5780>]"
      ]
     },
     "execution_count": 16,
     "metadata": {},
     "output_type": "execute_result"
    },
    {
     "data": {
      "image/png": "[encoded data removed]",
      "text/plain": [
       "<matplotlib.figure.Figure at 0x2748851c278>"
      ]
     },
     "metadata": {},
     "output_type": "display_data"
    }
   ],
   "source": [
    "plt.plot(X,y,'o')\n",
    "\n",
    "xp = X\n",
    "# xp = np.linspace(-2,6,100)\n",
    "\n",
    "plt.plot(xp, np.polyval(p1,xp), 'r-')\n",
    "plt.plot(xp, np.polyval(p2,xp), 'b--')\n",
    "plt.plot(xp, np.polyval(p3,xp), 'm:')"
   ]
  },
  {
   "cell_type": "code",
   "execution_count": 15,
   "metadata": {},
   "outputs": [
    {
     "data": {
      "text/plain": [
       "array([ 1.36285714,  1.33838384,  1.31391053,  1.28943723,  1.26496392,\n",
       "        1.24049062,  1.21601732,  1.19154401,  1.16707071,  1.1425974 ,\n",
       "        1.1181241 ,  1.09365079,  1.06917749,  1.04470418,  1.02023088,\n",
       "        0.99575758,  0.97128427,  0.94681097,  0.92233766,  0.89786436,\n",
       "        0.87339105,  0.84891775,  0.82444444,  0.79997114,  0.77549784,\n",
       "        0.75102453,  0.72655123,  0.70207792,  0.67760462,  0.65313131,\n",
       "        0.62865801,  0.6041847 ,  0.5797114 ,  0.5552381 ,  0.53076479,\n",
       "        0.50629149,  0.48181818,  0.45734488,  0.43287157,  0.40839827,\n",
       "        0.38392496,  0.35945166,  0.33497835,  0.31050505,  0.28603175,\n",
       "        0.26155844,  0.23708514,  0.21261183,  0.18813853,  0.16366522,\n",
       "        0.13919192,  0.11471861,  0.09024531,  0.06577201,  0.0412987 ,\n",
       "        0.0168254 , -0.00764791, -0.03212121, -0.05659452, -0.08106782,\n",
       "       -0.10554113, -0.13001443, -0.15448773, -0.17896104, -0.20343434,\n",
       "       -0.22790765, -0.25238095, -0.27685426, -0.30132756, -0.32580087,\n",
       "       -0.35027417, -0.37474747, -0.39922078, -0.42369408, -0.44816739,\n",
       "       -0.47264069, -0.497114  , -0.5215873 , -0.54606061, -0.57053391,\n",
       "       -0.59500722, -0.61948052, -0.64395382, -0.66842713, -0.69290043,\n",
       "       -0.71737374, -0.74184704, -0.76632035, -0.79079365, -0.81526696,\n",
       "       -0.83974026, -0.86421356, -0.88868687, -0.91316017, -0.93763348,\n",
       "       -0.96210678, -0.98658009, -1.01105339, -1.0355267 , -1.06      ])"
      ]
     },
     "execution_count": 15,
     "metadata": {},
     "output_type": "execute_result"
    }
   ],
   "source": [
    "np.polyval(p1,xp)"
   ]
  },
  {
   "cell_type": "code",
   "execution_count": null,
   "metadata": {
    "collapsed": true
   },
   "outputs": [],
   "source": []
  }
 ],
 "metadata": {
  "anaconda-cloud": {},
  "kernelspec": {
   "display_name": "Python 3",
   "language": "python",
   "name": "python3"
  },
  "language_info": {
   "codemirror_mode": {
    "name": "ipython",
    "version": 3
   },
   "file_extension": ".py",
   "mimetype": "text/x-python",
   "name": "python",
   "nbconvert_exporter": "python",
   "pygments_lexer": "ipython3",
   "version": "3.6.3"
  }
 },
 "nbformat": 4,
 "nbformat_minor": 1
}
