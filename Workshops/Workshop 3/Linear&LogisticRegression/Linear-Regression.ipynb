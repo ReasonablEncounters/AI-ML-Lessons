{
 "cells": [
  {
   "cell_type": "code",
   "execution_count": 3,
   "metadata": {
    "collapsed": true
   },
   "outputs": [],
   "source": [
    "# imports\n",
    "import numpy as np\n",
    "from sklearn import linear_model\n",
    "import matplotlib.pyplot as plt\n",
    "import pandas as pd\n",
    "\n",
    "# this allows plots to appear directly in the notebook\n",
    "%matplotlib inline"
   ]
  },
  {
   "cell_type": "markdown",
   "metadata": {},
   "source": [
    "# Data\n",
    "Lets take a look at some data, ask some questions and use linear regression to solve said questions"
   ]
  },
  {
   "cell_type": "code",
   "execution_count": 4,
   "metadata": {
    "scrolled": true
   },
   "outputs": [
    {
     "data": {
      "text/html": [
       "<div>\n",
       "<style>\n",
       "    .dataframe thead tr:only-child th {\n",
       "        text-align: right;\n",
       "    }\n",
       "\n",
       "    .dataframe thead th {\n",
       "        text-align: left;\n",
       "    }\n",
       "\n",
       "    .dataframe tbody tr th {\n",
       "        vertical-align: top;\n",
       "    }\n",
       "</style>\n",
       "<table border=\"1\" class=\"dataframe\">\n",
       "  <thead>\n",
       "    <tr style=\"text-align: right;\">\n",
       "      <th></th>\n",
       "      <th>Date</th>\n",
       "      <th>Open</th>\n",
       "      <th>High</th>\n",
       "      <th>Low</th>\n",
       "      <th>Close</th>\n",
       "      <th>Volume</th>\n",
       "    </tr>\n",
       "  </thead>\n",
       "  <tbody>\n",
       "    <tr>\n",
       "      <th>0</th>\n",
       "      <td>26-Feb-16</td>\n",
       "      <td>708.58</td>\n",
       "      <td>713.43</td>\n",
       "      <td>700.86</td>\n",
       "      <td>705.07</td>\n",
       "      <td>2239978</td>\n",
       "    </tr>\n",
       "    <tr>\n",
       "      <th>1</th>\n",
       "      <td>25-Feb-16</td>\n",
       "      <td>700.01</td>\n",
       "      <td>705.98</td>\n",
       "      <td>690.58</td>\n",
       "      <td>705.75</td>\n",
       "      <td>1631855</td>\n",
       "    </tr>\n",
       "    <tr>\n",
       "      <th>2</th>\n",
       "      <td>24-Feb-16</td>\n",
       "      <td>688.92</td>\n",
       "      <td>700.00</td>\n",
       "      <td>680.78</td>\n",
       "      <td>699.56</td>\n",
       "      <td>1958611</td>\n",
       "    </tr>\n",
       "    <tr>\n",
       "      <th>3</th>\n",
       "      <td>23-Feb-16</td>\n",
       "      <td>701.45</td>\n",
       "      <td>708.40</td>\n",
       "      <td>693.58</td>\n",
       "      <td>695.85</td>\n",
       "      <td>1999699</td>\n",
       "    </tr>\n",
       "    <tr>\n",
       "      <th>4</th>\n",
       "      <td>22-Feb-16</td>\n",
       "      <td>707.45</td>\n",
       "      <td>713.24</td>\n",
       "      <td>702.51</td>\n",
       "      <td>706.46</td>\n",
       "      <td>1946067</td>\n",
       "    </tr>\n",
       "    <tr>\n",
       "      <th>5</th>\n",
       "      <td>19-Feb-16</td>\n",
       "      <td>695.03</td>\n",
       "      <td>703.08</td>\n",
       "      <td>694.05</td>\n",
       "      <td>700.91</td>\n",
       "      <td>1582260</td>\n",
       "    </tr>\n",
       "    <tr>\n",
       "      <th>6</th>\n",
       "      <td>18-Feb-16</td>\n",
       "      <td>710.00</td>\n",
       "      <td>712.35</td>\n",
       "      <td>696.03</td>\n",
       "      <td>697.35</td>\n",
       "      <td>1859130</td>\n",
       "    </tr>\n",
       "    <tr>\n",
       "      <th>7</th>\n",
       "      <td>17-Feb-16</td>\n",
       "      <td>699.00</td>\n",
       "      <td>709.75</td>\n",
       "      <td>691.38</td>\n",
       "      <td>708.40</td>\n",
       "      <td>2466808</td>\n",
       "    </tr>\n",
       "    <tr>\n",
       "      <th>8</th>\n",
       "      <td>16-Feb-16</td>\n",
       "      <td>692.98</td>\n",
       "      <td>698.00</td>\n",
       "      <td>685.05</td>\n",
       "      <td>691.00</td>\n",
       "      <td>2497024</td>\n",
       "    </tr>\n",
       "    <tr>\n",
       "      <th>9</th>\n",
       "      <td>12-Feb-16</td>\n",
       "      <td>690.26</td>\n",
       "      <td>693.75</td>\n",
       "      <td>678.60</td>\n",
       "      <td>682.40</td>\n",
       "      <td>2129831</td>\n",
       "    </tr>\n",
       "    <tr>\n",
       "      <th>10</th>\n",
       "      <td>11-Feb-16</td>\n",
       "      <td>675.00</td>\n",
       "      <td>689.35</td>\n",
       "      <td>668.87</td>\n",
       "      <td>683.11</td>\n",
       "      <td>3007223</td>\n",
       "    </tr>\n",
       "    <tr>\n",
       "      <th>11</th>\n",
       "      <td>10-Feb-16</td>\n",
       "      <td>686.86</td>\n",
       "      <td>701.31</td>\n",
       "      <td>682.13</td>\n",
       "      <td>684.12</td>\n",
       "      <td>2627379</td>\n",
       "    </tr>\n",
       "    <tr>\n",
       "      <th>12</th>\n",
       "      <td>9-Feb-16</td>\n",
       "      <td>672.32</td>\n",
       "      <td>699.90</td>\n",
       "      <td>668.77</td>\n",
       "      <td>678.11</td>\n",
       "      <td>3604335</td>\n",
       "    </tr>\n",
       "    <tr>\n",
       "      <th>13</th>\n",
       "      <td>8-Feb-16</td>\n",
       "      <td>667.85</td>\n",
       "      <td>684.03</td>\n",
       "      <td>663.06</td>\n",
       "      <td>682.74</td>\n",
       "      <td>4212541</td>\n",
       "    </tr>\n",
       "    <tr>\n",
       "      <th>14</th>\n",
       "      <td>5-Feb-16</td>\n",
       "      <td>703.87</td>\n",
       "      <td>703.99</td>\n",
       "      <td>680.15</td>\n",
       "      <td>683.57</td>\n",
       "      <td>5069985</td>\n",
       "    </tr>\n",
       "    <tr>\n",
       "      <th>15</th>\n",
       "      <td>4-Feb-16</td>\n",
       "      <td>722.81</td>\n",
       "      <td>727.00</td>\n",
       "      <td>701.86</td>\n",
       "      <td>708.01</td>\n",
       "      <td>5145855</td>\n",
       "    </tr>\n",
       "    <tr>\n",
       "      <th>16</th>\n",
       "      <td>3-Feb-16</td>\n",
       "      <td>770.22</td>\n",
       "      <td>774.50</td>\n",
       "      <td>720.50</td>\n",
       "      <td>726.95</td>\n",
       "      <td>6162333</td>\n",
       "    </tr>\n",
       "    <tr>\n",
       "      <th>17</th>\n",
       "      <td>2-Feb-16</td>\n",
       "      <td>784.50</td>\n",
       "      <td>789.87</td>\n",
       "      <td>764.65</td>\n",
       "      <td>764.65</td>\n",
       "      <td>6332431</td>\n",
       "    </tr>\n",
       "    <tr>\n",
       "      <th>18</th>\n",
       "      <td>1-Feb-16</td>\n",
       "      <td>750.46</td>\n",
       "      <td>757.86</td>\n",
       "      <td>743.27</td>\n",
       "      <td>752.00</td>\n",
       "      <td>4801816</td>\n",
       "    </tr>\n",
       "  </tbody>\n",
       "</table>\n",
       "</div>"
      ],
      "text/plain": [
       "         Date    Open    High     Low   Close   Volume\n",
       "0   26-Feb-16  708.58  713.43  700.86  705.07  2239978\n",
       "1   25-Feb-16  700.01  705.98  690.58  705.75  1631855\n",
       "2   24-Feb-16  688.92  700.00  680.78  699.56  1958611\n",
       "3   23-Feb-16  701.45  708.40  693.58  695.85  1999699\n",
       "4   22-Feb-16  707.45  713.24  702.51  706.46  1946067\n",
       "5   19-Feb-16  695.03  703.08  694.05  700.91  1582260\n",
       "6   18-Feb-16  710.00  712.35  696.03  697.35  1859130\n",
       "7   17-Feb-16  699.00  709.75  691.38  708.40  2466808\n",
       "8   16-Feb-16  692.98  698.00  685.05  691.00  2497024\n",
       "9   12-Feb-16  690.26  693.75  678.60  682.40  2129831\n",
       "10  11-Feb-16  675.00  689.35  668.87  683.11  3007223\n",
       "11  10-Feb-16  686.86  701.31  682.13  684.12  2627379\n",
       "12   9-Feb-16  672.32  699.90  668.77  678.11  3604335\n",
       "13   8-Feb-16  667.85  684.03  663.06  682.74  4212541\n",
       "14   5-Feb-16  703.87  703.99  680.15  683.57  5069985\n",
       "15   4-Feb-16  722.81  727.00  701.86  708.01  5145855\n",
       "16   3-Feb-16  770.22  774.50  720.50  726.95  6162333\n",
       "17   2-Feb-16  784.50  789.87  764.65  764.65  6332431\n",
       "18   1-Feb-16  750.46  757.86  743.27  752.00  4801816"
      ]
     },
     "execution_count": 4,
     "metadata": {},
     "output_type": "execute_result"
    }
   ],
   "source": [
    "# read data into a DataFrame\n",
    "data = pd.read_csv('./goog.csv')\n",
    "data"
   ]
  },
  {
   "cell_type": "code",
   "execution_count": 5,
   "metadata": {
    "scrolled": true
   },
   "outputs": [
    {
     "name": "stdout",
     "output_type": "stream",
     "text": [
      "[[26]\n",
      " [25]\n",
      " [24]\n",
      " [23]\n",
      " [22]\n",
      " [19]\n",
      " [18]\n",
      " [17]\n",
      " [16]\n",
      " [12]\n",
      " [11]\n",
      " [10]\n",
      " [ 9]\n",
      " [ 8]\n",
      " [ 5]\n",
      " [ 4]\n",
      " [ 3]\n",
      " [ 2]\n",
      " [ 1]]\n",
      "[[708.58]\n",
      " [700.01]\n",
      " [688.92]\n",
      " [701.45]\n",
      " [707.45]\n",
      " [695.03]\n",
      " [710.0]\n",
      " [699.0]\n",
      " [692.98]\n",
      " [690.26]\n",
      " [675.0]\n",
      " [686.86]\n",
      " [672.32]\n",
      " [667.85]\n",
      " [703.87]\n",
      " [722.81]\n",
      " [770.22]\n",
      " [784.5]\n",
      " [750.46]]\n"
     ]
    }
   ],
   "source": [
    "dates = [int(i.split('-')[0]) for i in np.array(data)[:,0]]\n",
    "prices = np.array(data)[:,1]\n",
    "# high = np.array(data)[:,2]\n",
    "\n",
    "prices = np.array([prices]).T\n",
    "dates = np.array([dates]).T\n",
    "# high = np.array([high]).T\n",
    "# prices = np.hstack((prices, high))\n",
    "\n",
    "print(dates)\n",
    "print(prices)"
   ]
  },
  {
   "cell_type": "code",
   "execution_count": 6,
   "metadata": {
    "collapsed": true
   },
   "outputs": [],
   "source": [
    "def predict_price(dates, prices, x):\n",
    "    linear_mod = linear_model.LinearRegression()\n",
    "    linear_mod.fit(dates, prices)\n",
    "    predicted_price = linear_mod.predict(x)\n",
    "    return predicted_price, linear_mod.coef_, linear_mod.intercept_\n",
    "#     return predicted_price, linear_mod"
   ]
  },
  {
   "cell_type": "code",
   "execution_count": 7,
   "metadata": {
    "collapsed": true
   },
   "outputs": [],
   "source": [
    "def show_plot(dates, prices):\n",
    "    linear_mod = linear_model.LinearRegression()\n",
    "    linear_mod.fit(dates, prices)\n",
    "    plt.scatter(dates, prices, color='lime')\n",
    "    plt.plot(dates, linear_mod.predict(dates), color='blue', linewidth=3)\n",
    "    plt.show()\n",
    "    return"
   ]
  },
  {
   "cell_type": "code",
   "execution_count": 16,
   "metadata": {},
   "outputs": [
    {
     "name": "stdout",
     "output_type": "stream",
     "text": [
      "(array([[ 664.37196832]]), array([[-1.65535515]]), array([ 728.93081909]))\n"
     ]
    }
   ],
   "source": [
    "print(predict_price(dates, prices, 39))"
   ]
  },
  {
   "cell_type": "code",
   "execution_count": 17,
   "metadata": {},
   "outputs": [
    {
     "data": {
      "image/png": "[encoded data removed]",
      "text/plain": [
       "<matplotlib.figure.Figure at 0x217edf2d7f0>"
      ]
     },
     "metadata": {},
     "output_type": "display_data"
    }
   ],
   "source": [
    "show_plot(dates, prices)"
   ]
  },
  {
   "cell_type": "markdown",
   "metadata": {
    "collapsed": true
   },
   "source": []
  }
 ],
 "metadata": {
  "anaconda-cloud": {},
  "kernelspec": {
   "display_name": "Python 3",
   "language": "python",
   "name": "python3"
  },
  "language_info": {
   "codemirror_mode": {
    "name": "ipython",
    "version": 3
   },
   "file_extension": ".py",
   "mimetype": "text/x-python",
   "name": "python",
   "nbconvert_exporter": "python",
   "pygments_lexer": "ipython3",
   "version": "3.6.3"
  }
 },
 "nbformat": 4,
 "nbformat_minor": 1
}
