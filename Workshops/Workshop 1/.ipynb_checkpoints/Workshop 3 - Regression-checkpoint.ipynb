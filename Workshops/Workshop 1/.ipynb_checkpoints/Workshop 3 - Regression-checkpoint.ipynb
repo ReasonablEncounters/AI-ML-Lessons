{
 "cells": [
  {
   "cell_type": "markdown",
   "metadata": {},
   "source": [
    "<img src=\"https://img.evbuc.com/https%3A%2F%2Fcdn.evbuc.com%2Fimages%2F35801123%2F133383632059%2F1%2Foriginal.jpg?w=800&rect=0%2C0%2C2160%2C1080&s=6e2b5901c09d9a6e687ed09a66372984\" alt=\"DC Logo\" style=\"width: 900px;float:left;\"/>"
   ]
  },
  {
   "cell_type": "markdown",
   "metadata": {},
   "source": [
    "# WORKSHOP 3\n",
    "## <span style=\"color:green\">Regression</span>\n",
    "\n",
    "**Background:** This workshop will focus on 3 types of regression techniques - Linear, Logistic, and Polynomial."
   ]
  },
  {
   "cell_type": "markdown",
   "metadata": {},
   "source": [
    "## Let's get started!\n",
    "\n",
    "- <span style=\"color: blue\">**Answer any questions in bold and blue in the code block(cell) below each section.** </span>\n",
    "  \n",
    "- <span style=\"color: green\">*Any statements in italic and green are for consideration and should help guide you to understand the code involved.* </span>\n",
    "\n",
    "# <span style=\"color:green\">SECTION 1</span>\n",
    "### Linear Regression"
   ]
  },
  {
   "cell_type": "code",
   "execution_count": null,
   "metadata": {
    "collapsed": true
   },
   "outputs": [],
   "source": []
  },
  {
   "cell_type": "markdown",
   "metadata": {},
   "source": [
    "# <span style=\"color:green\">SECTION 2</span>\n",
    "### Logistic Regression"
   ]
  },
  {
   "cell_type": "code",
   "execution_count": null,
   "metadata": {
    "collapsed": true
   },
   "outputs": [],
   "source": []
  },
  {
   "cell_type": "markdown",
   "metadata": {},
   "source": [
    "# <span style=\"color:green\">SECTION 3</span>\n",
    "### Polynomial Regression"
   ]
  },
  {
   "cell_type": "code",
   "execution_count": null,
   "metadata": {
    "collapsed": true
   },
   "outputs": [],
   "source": []
  }
 ],
 "metadata": {
  "kernelspec": {
   "display_name": "Python 3",
   "language": "python",
   "name": "python3"
  },
  "language_info": {
   "codemirror_mode": {
    "name": "ipython",
    "version": 3
   },
   "file_extension": ".py",
   "mimetype": "text/x-python",
   "name": "python",
   "nbconvert_exporter": "python",
   "pygments_lexer": "ipython3",
   "version": "3.6.1"
  }
 },
 "nbformat": 4,
 "nbformat_minor": 2
}
