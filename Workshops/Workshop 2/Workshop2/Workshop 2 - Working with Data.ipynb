{
 "cells": [
  {
   "cell_type": "markdown",
   "metadata": {
    "deletable": true,
    "editable": true
   },
   "source": [
    "# Workshop 2 \n",
    "## Pre-Processing Data for Machine Learning\n",
    "\n",
    "Many machine learning algorithms make assumptions about your data.\n",
    "\n",
    "It is often a very good idea to prepare your data in such way to best expose the structure of the problem to the machine learning algorithms that you intend to use.\n",
    "\n",
    "In this post you will discover how to prepare your data for machine learning in Python using the scikit-learn library. Which contains tools for data mining and analysis that are built on NumPy, SciPy, and matplotlib.\n",
    "\n",
    "![alt text](https://www.tibco.com/blog/wp-content/uploads/2013/12/dataman.jpg \"Lots of data\")"
   ]
  },
  {
   "cell_type": "markdown",
   "metadata": {
    "deletable": true,
    "editable": true
   },
   "source": [
    "## But wait!\n",
    "\n",
    "Before we even begin pre-processing our data, we have to make sure we select the correct data to pre-process! \n",
    "\n",
    "They say \"Data is the new oil\" and just like oil, data must be cleaned and filtered first before moving forward. Dirty, poorly selected data can produce a poor model!\n",
    "\n",
    "\n",
    "![alt text](http://infoquarter.com/images/DataCleansing/data-cleaning1.jpg \"Data Cleaning\")"
   ]
  },
  {
   "cell_type": "markdown",
   "metadata": {
    "deletable": true,
    "editable": true
   },
   "source": [
    "# <span style=\"color:green\">Activity 1</span>\n",
    "## Feature engineering / Feature selection\n",
    "\n",
    "Feature selection, also known as variable selection, attribute selection or variable subset selection, is the process of selecting a subset of relevant features (variables, predictors) for use in model construction.\n",
    "\n",
    "#### In short, we must construct the best features fit for the task at hand!"
   ]
  },
  {
   "cell_type": "markdown",
   "metadata": {
    "deletable": true,
    "editable": true
   },
   "source": [
    "# <span style=\"color:green\">Activity 2</span>\n",
    "## Training\n",
    "\n",
    "Training a model is just like how we as humans learn! We observe things over and over again and begin to differentiate between them for example, if we've never seen a dog or a cat before in our entire life - chances are slim we'd be able to pick them out from each other. \n",
    "\n",
    "#### Let's train ourselves on whether or not we can identify someone in the room based on the features we've selected in the previous activity"
   ]
  },
  {
   "cell_type": "markdown",
   "metadata": {
    "deletable": true,
    "editable": true
   },
   "source": [
    "# <span style=\"color:green\">Activity 3</span>\n",
    "## Data preparation\n",
    "\n",
    "Machine Learning algorithms just love to work with data that's as simple as possible. When there is too much variability in the data, certain connections and correlations cannot be accurately made.\n",
    "\n",
    "#### It's our job to prepare the data to spoonfeed to our machine learning algorithms. Let's begin."
   ]
  },
  {
   "cell_type": "markdown",
   "metadata": {
    "deletable": true,
    "editable": true
   },
   "source": [
    "# <span style=\"color:green\">Activity 4</span>\n",
    "## Web Scraping\n",
    "\n",
    "Sometimes not all the data we want is available to us as easily as we would like. Perhaps we would like to run analysis on a certain site's content, such as reddit, facebook, or youtube comments! If we could gather all this data, we can process the general sentiment of a youtube's video for example. \n",
    "\n",
    "#### Let's scrape a website's data and see if we can preprocess it to make some sense of it!"
   ]
  },
  {
   "cell_type": "markdown",
   "metadata": {
    "deletable": true,
    "editable": true
   },
   "source": [
    "## A few things to note!\n",
    "\n",
    "#### copyrights and permission:\n",
    "- be careful and polite\n",
    "- give credit\n",
    "- care about media law\n",
    "- don't be evil (no spam, overloading sites, etc.)\n",
    "\n",
    "### robots.txt\n",
    "- specified by web site owner\n",
    "- gives instructions to web robots (aka your script)\n",
    "- is located at the top-level directory of the web server\n",
    "\n",
    "Take a look at http://google.com/robots.txt"
   ]
  },
  {
   "cell_type": "code",
   "execution_count": 8,
   "metadata": {
    "collapsed": false,
    "deletable": true,
    "editable": true
   },
   "outputs": [
    {
     "data": {
      "text/html": [
       "<!DOCTYPE html>\n",
       "<html>\n",
       "  <head>\n",
       "    <title>This is a title</title>\n",
       "  </head>\n",
       "  <body>\n",
       "    <h2> Test </h2>\n",
       "    <p>Hello world!</p>\n",
       "  </body>\n",
       "</html>"
      ],
      "text/plain": [
       "<IPython.core.display.HTML object>"
      ]
     },
     "execution_count": 8,
     "metadata": {},
     "output_type": "execute_result"
    }
   ],
   "source": [
    "from IPython.display import HTML\n",
    "\n",
    "# what does html look like when we print it out?\n",
    "htmlString = \"\"\"<!DOCTYPE html>\n",
    "<html>\n",
    "  <head>\n",
    "    <title>This is a title</title>\n",
    "  </head>\n",
    "  <body>\n",
    "    <h2> Test </h2>\n",
    "    <p>Hello world!</p>\n",
    "  </body>\n",
    "</html>\"\"\"\n",
    "\n",
    "htmlOutput = HTML(htmlString)\n",
    "htmlOutput"
   ]
  },
  {
   "cell_type": "code",
   "execution_count": 20,
   "metadata": {
    "collapsed": false,
    "deletable": true,
    "editable": true,
    "scrolled": true
   },
   "outputs": [
    {
     "name": "stdout",
     "output_type": "stream",
     "text": [
      "b'<html>\\n<head>\\n<title>A Useful Page</title>\\n</head>\\n<body>\\n<h1>An Interesting Title</h1>\\n<div>\\nLorem ipsum dolor sit amet, consectetur adipisicing elit, sed do eiusmod tempor incididunt ut labore et dolore magna aliqua. Ut enim ad minim veniam, quis nostrud exercitation ullamco laboris nisi ut aliquip ex ea commodo consequat. Duis aute irure dolor in reprehenderit in voluptate velit esse cillum dolore eu fugiat nulla pariatur. Excepteur sint occaecat cupidatat non proident, sunt in culpa qui officia deserunt mollit anim id est laborum.\\n</div>\\n</body>\\n</html>\\n'\n"
     ]
    }
   ],
   "source": [
    "from urllib.request import urlopen\n",
    "\n",
    "url = 'http://www.pythonscraping.com/exercises/exercise1.html'\n",
    "source = urlopen(url).read()\n",
    "print(source)\n"
   ]
  },
  {
   "cell_type": "markdown",
   "metadata": {
    "collapsed": true,
    "deletable": true,
    "editable": true
   },
   "source": [
    "#### We're going to need a new package here. Let's open a new command prompt and type:\n",
    "- `pip install beautifulsoup4`"
   ]
  },
  {
   "cell_type": "code",
   "execution_count": 24,
   "metadata": {
    "collapsed": false
   },
   "outputs": [
    {
     "name": "stdout",
     "output_type": "stream",
     "text": [
      "<html><head>\n",
      "<title>A Useful Page</title>\n",
      "</head>\n",
      "<body>\n",
      "<h1>An Interesting Title</h1>\n",
      "<div>\n",
      "Lorem ipsum dolor sit amet, consectetur adipisicing elit, sed do eiusmod tempor incididunt ut labore et dolore magna aliqua. Ut enim ad minim veniam, quis nostrud exercitation ullamco laboris nisi ut aliquip ex ea commodo consequat. Duis aute irure dolor in reprehenderit in voluptate velit esse cillum dolore eu fugiat nulla pariatur. Excepteur sint occaecat cupidatat non proident, sunt in culpa qui officia deserunt mollit anim id est laborum.\n",
      "</div>\n",
      "\n",
      "\n",
      "</body></html>\n"
     ]
    }
   ],
   "source": [
    "from bs4 import BeautifulSoup\n",
    "\n",
    "bsObj = BeautifulSoup(source, \"html5lib\");\n",
    "print(bsObj)"
   ]
  },
  {
   "cell_type": "code",
   "execution_count": 25,
   "metadata": {
    "collapsed": false
   },
   "outputs": [
    {
     "name": "stdout",
     "output_type": "stream",
     "text": [
      "<div>\n",
      "Lorem ipsum dolor sit amet, consectetur adipisicing elit, sed do eiusmod tempor incididunt ut labore et dolore magna aliqua. Ut enim ad minim veniam, quis nostrud exercitation ullamco laboris nisi ut aliquip ex ea commodo consequat. Duis aute irure dolor in reprehenderit in voluptate velit esse cillum dolore eu fugiat nulla pariatur. Excepteur sint occaecat cupidatat non proident, sunt in culpa qui officia deserunt mollit anim id est laborum.\n",
      "</div>\n"
     ]
    }
   ],
   "source": [
    "print(bsObj.div)"
   ]
  },
  {
   "cell_type": "code",
   "execution_count": null,
   "metadata": {
    "collapsed": true
   },
   "outputs": [],
   "source": []
  }
 ],
 "metadata": {
  "anaconda-cloud": {},
  "kernelspec": {
   "display_name": "Python [default]",
   "language": "python",
   "name": "python3"
  },
  "language_info": {
   "codemirror_mode": {
    "name": "ipython",
    "version": 3
   },
   "file_extension": ".py",
   "mimetype": "text/x-python",
   "name": "python",
   "nbconvert_exporter": "python",
   "pygments_lexer": "ipython3",
   "version": "3.5.2"
  }
 },
 "nbformat": 4,
 "nbformat_minor": 2
}
