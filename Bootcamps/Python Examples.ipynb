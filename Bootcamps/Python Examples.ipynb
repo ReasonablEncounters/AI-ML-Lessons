{
 "cells": [
  {
   "cell_type": "code",
   "execution_count": 2,
   "metadata": {},
   "outputs": [
    {
     "name": "stdout",
     "output_type": "stream",
     "text": [
      "Hello World\n",
      "Joey\n",
      "20\n"
     ]
    }
   ],
   "source": [
    "import random\n",
    "import sys\n",
    "import os\n",
    "\n",
    "print(\"Hello World\")\n",
    "\n",
    "'''\n",
    "This is a multi-line comment\n",
    "'''\n",
    "# This is a single line comment\n",
    "\n",
    "name = \"Joey\"\n",
    "print(name)\n",
    "\n",
    "number = 20\n",
    "print(number)\n"
   ]
  },
  {
   "cell_type": "markdown",
   "metadata": {},
   "source": [
    "# Arithmetic Operators\n",
    "  simple examples of arithmetic operators \n",
    "  "
   ]
  },
  {
   "cell_type": "code",
   "execution_count": 2,
   "metadata": {},
   "outputs": [
    {
     "name": "stdout",
     "output_type": "stream",
     "text": [
      "5 + 2 = 7\n",
      "5 - 2 = 3\n",
      "5 * 2 = 10\n",
      "5 / 2 = 2.5\n",
      "5 % 2 = 1\n",
      "5 ** 2 = 25\n",
      "5 // 2 = 2\n",
      "1 + 2 - 3 * 2 = -3\n",
      "(1 + 2 - 3) * 2 = 0\n"
     ]
    }
   ],
   "source": [
    "\n",
    "# ** Exponential calculation\n",
    "# // Floor Division\n",
    "print(\"5 + 2 =\", 5+2)\n",
    "print(\"5 - 2 =\", 5-2)\n",
    "print(\"5 * 2 =\", 5*2)\n",
    "print(\"5 / 2 =\", 5/2)\n",
    "print(\"5 % 2 =\", 5%2)\n",
    "print(\"5 ** 2 =\", 5**2)\n",
    "print(\"5 // 2 =\", 5//2)\n",
    " \n",
    "# Order of Operations\n",
    "print(\"1 + 2 - 3 * 2 =\", 1 + 2 - 3 * 2)\n",
    "print(\"(1 + 2 - 3) * 2 =\", (1 + 2 - 3) * 2)"
   ]
  },
  {
   "cell_type": "markdown",
   "metadata": {},
   "source": [
    "# Strings\n",
    " String concatination\n",
    " multiline strings\n",
    " newline supression"
   ]
  },
  {
   "cell_type": "code",
   "execution_count": 10,
   "metadata": {},
   "outputs": [
    {
     "name": "stdout",
     "output_type": "stream",
     "text": [
      "\"Always remember your unique, just\n",
      "like everyone else\" \n",
      "I like the quote \"Always remember your unique,  just\n",
      "like everyone else\" \n",
      "I don't like newlines\n",
      "\n",
      "\n",
      "\n",
      "\n",
      "\n",
      "\n",
      "I just printed 5 blank lines\n",
      "I'll\n",
      "Floor\n",
      "I'll catch you if you fall - The \n",
      "I'll be there\n",
      "X is my favorite letter and my number 1 number is 0.14000\n",
      "I'll catch you if you fall - the floor\n",
      "33\n",
      "False\n",
      "False\n",
      "38\n",
      "I'll catch you if you fall - The Ground\n",
      "I'll catch you if you fall - The Floor\n",
      "[\"I'll\", 'catch', 'you', 'if', 'you', 'fall', '-', 'The', 'Floor']\n"
     ]
    }
   ],
   "source": [
    "quote = \"\\\"Always remember your unique,\"\n",
    " \n",
    "# multi line string\n",
    "multi_line_quote = ''' just\n",
    "like everyone else\" '''\n",
    "\n",
    "#string concat\n",
    "print(quote + multi_line_quote)\n",
    " \n",
    "# To embed a string in output use %s\n",
    "print(\"%s %s %s\" % ('I like the quote', quote, multi_line_quote))\n",
    " \n",
    "# To keep from printing newlines use end=\"\"\n",
    "print(\"I don't like \",end=\"\")\n",
    "print(\"newlines\")\n",
    " \n",
    "# You can print a string multiple times with *\n",
    "print('\\n' * 5)\n",
    "\n",
    "print('I just printed 5 blank lines')\n",
    "\n",
    "long_string = \"I'll catch you if you fall - The Floor\"\n",
    " \n",
    "# Retrieve the first 4 characters\n",
    "print(long_string[0:4])\n",
    " \n",
    "# Get the last 5 characters\n",
    "print(long_string[-5:])\n",
    " \n",
    "# Everything up to the last 5 characters\n",
    "print(long_string[:-5])\n",
    " \n",
    "# Concatenate part of a string to another\n",
    "print(long_string[:4] + \" be there\")\n",
    " \n",
    "# String formatting\n",
    "print(\"%c is my %s letter and my number %d number is %.5f\" % ('X', 'favorite', 1, .14))\n",
    " \n",
    "# Capitalizes the first letter\n",
    "print(long_string.capitalize())\n",
    " \n",
    "# Returns the index of the start of the string\n",
    "# case sensitive\n",
    "print(long_string.find(\"Floor\"))\n",
    " \n",
    "# Returns true if all characters are letters ' isn't a letter\n",
    "print(long_string.isalpha())\n",
    " \n",
    "# Returns true if all characters are numbers\n",
    "print(long_string.isalnum())\n",
    " \n",
    "# Returns the string length\n",
    "print(len(long_string))\n",
    " \n",
    "# Replace the first word with the second (Add a number to replace more)\n",
    "print(long_string.replace(\"Floor\", \"Ground\"))\n",
    " \n",
    "# Remove white space from front and end\n",
    "print(long_string.strip())\n",
    " \n",
    "# Split a string into a list based on the delimiter you provide\n",
    "quote_list = long_string.split(\" \")\n",
    "print(quote_list)"
   ]
  },
  {
   "cell_type": "markdown",
   "metadata": {},
   "source": [
    "# Lists\n",
    "\n",
    " similar to arrays\n",
    " \n",
    " "
   ]
  },
  {
   "cell_type": "code",
   "execution_count": 2,
   "metadata": {},
   "outputs": [
    {
     "name": "stdout",
     "output_type": "stream",
     "text": [
      "The first item is Tomatoes\n",
      "['Green Juice', 'Tomatoes', 'Potatoes', 'Bananas']\n",
      "['Tomatoes', 'Potatoes']\n",
      "[['Wash Car', 'Pick up Kids', 'Cash Check'], ['Green Juice', 'Tomatoes', 'Potatoes', 'Bananas']]\n",
      "Tomatoes\n",
      "[['Wash Car', 'Pick up Kids', 'Cash Check'], ['Green Juice', 'Tomatoes', 'Potatoes', 'Bananas', 'onions']]\n",
      "[['Wash Car', 'Pick up Kids', 'Cash Check'], ['onions', 'Tomatoes', 'Potatoes', 'Green Juice']]\n",
      "['Wash Car', 'Pick up Kids', 'Cash Check', 'onions', 'Tomatoes', 'Potatoes', 'Green Juice']\n",
      "7\n",
      "onions\n",
      "Cash Check\n"
     ]
    }
   ],
   "source": [
    "grocery_list = ['Juice', 'Tomatoes', 'Potatoes', 'Bananas']\n",
    "print('The first item is', grocery_list[1])\n",
    " \n",
    "# changing values\n",
    "grocery_list[0] = \"Green Juice\"\n",
    "print(grocery_list)\n",
    " \n",
    "# You can get a subset of the list with [min:up to but not including max]\n",
    "print(grocery_list[1:3])\n",
    " \n",
    "# You can put any data type in a a list \n",
    "other_events = ['Wash Car', 'Pick up Kids', 'Cash Check']\n",
    "# adds two list together\n",
    "to_do_list = [other_events, grocery_list]\n",
    "print(to_do_list)\n",
    " \n",
    "# Get the second item in the second list (Boxes inside of boxes)\n",
    "print(to_do_list[1][1])\n",
    " \n",
    "# You add values using append\n",
    "grocery_list.append('onions')\n",
    "print(to_do_list)\n",
    " \n",
    "# Insert item at given index\n",
    "grocery_list.insert(1, \"Pickle\")\n",
    " \n",
    "# Remove item from list\n",
    "grocery_list.remove(\"Pickle\")\n",
    " \n",
    "# Sorts items in list\n",
    "grocery_list.sort()\n",
    " \n",
    "# Reverse sort items in list\n",
    "grocery_list.reverse()\n",
    " \n",
    "# del deletes an item at specified index\n",
    "del grocery_list[4]\n",
    "print(to_do_list)\n",
    " \n",
    "# We can combine lists with a +\n",
    "to_do_list = other_events + grocery_list\n",
    "print(to_do_list)\n",
    " \n",
    "# Get length of list\n",
    "print(len(to_do_list))\n",
    " \n",
    "# Get the max item in list\n",
    "print(max(to_do_list))\n",
    " \n",
    "# Get the minimum item in list\n",
    "print(min(to_do_list))"
   ]
  },
  {
   "cell_type": "markdown",
   "metadata": {},
   "source": [
    "# Conditional/Comparison Operators\n"
   ]
  },
  {
   "cell_type": "code",
   "execution_count": 3,
   "metadata": {},
   "outputs": [
    {
     "name": "stdout",
     "output_type": "stream",
     "text": [
      "You are old enough to drive\n",
      "You are old enough to drive\n",
      "You are old enough to drive a tractor trailer\n",
      "You get a birthday party yeah\n"
     ]
    }
   ],
   "source": [
    "age = 30\n",
    "if age > 16 :\n",
    "    print('You are old enough to drive')\n",
    " \n",
    " \n",
    "if age > 16 :\n",
    "    print('You are old enough to drive')\n",
    "else :\n",
    "    print('You are not old enough to drive')\n",
    " \n",
    " \n",
    "if age >= 21 :\n",
    "    print('You are old enough to drive a tractor trailer')\n",
    "elif age >= 16:\n",
    "    print('You are old enough to drive a car')\n",
    "else :\n",
    "    print('You are not old enough to drive')\n",
    " \n",
    " \n",
    "if ((age >= 1) and (age <= 18)):\n",
    "    print(\"You get a birthday party\")\n",
    "elif (age == 21) or (age >= 65):\n",
    "    print(\"You get a birthday party\")\n",
    "elif not(age == 30):\n",
    "    print(\"You don't get a birthday party\")\n",
    "else:\n",
    "    print(\"You get a birthday party yeah\")\n",
    " "
   ]
  },
  {
   "cell_type": "markdown",
   "metadata": {},
   "source": [
    "# Loops\n"
   ]
  },
  {
   "cell_type": "code",
   "execution_count": 7,
   "metadata": {},
   "outputs": [
    {
     "name": "stdout",
     "output_type": "stream",
     "text": [
      "0  1  2  3  4  5  6  7  8  9  \n",
      "\n",
      "Juice\n",
      "Tomatoes\n",
      "Potatoes\n",
      "Bananas\n",
      "2\n",
      "4\n",
      "6\n",
      "8\n",
      "10\n",
      "1\n",
      "2\n",
      "3\n",
      "10\n",
      "20\n",
      "30\n",
      "100\n",
      "200\n",
      "300\n",
      "32\n",
      "61\n",
      "43\n",
      "54\n",
      "85\n",
      "53\n",
      "29\n",
      "43\n",
      "60\n",
      "5\n",
      "31\n",
      "47\n",
      "43\n",
      "1\n",
      "44\n",
      "86\n",
      "12\n",
      "57\n",
      "7\n",
      "47\n",
      "98\n",
      "36\n",
      "89\n",
      "57\n",
      "38\n",
      "65\n",
      "23\n",
      "63\n",
      "78\n",
      "66\n",
      "21\n",
      "67\n",
      "17\n",
      "21\n",
      "29\n",
      "64\n",
      "48\n",
      "71\n",
      "70\n",
      "62\n",
      "12\n",
      "89\n",
      "6\n",
      "35\n",
      "5\n",
      "96\n",
      "91\n",
      "41\n",
      "42\n",
      "73\n",
      "66\n",
      "99\n",
      "96\n",
      "69\n",
      "77\n",
      "3\n",
      "23\n",
      "85\n",
      "89\n",
      "0\n",
      "2\n",
      "4\n",
      "6\n",
      "8\n"
     ]
    }
   ],
   "source": [
    "# Range performs the action 10 times 0 - 9\n",
    "for x in range(0, 10):\n",
    "    print(x , ' ', end=\"\")\n",
    " \n",
    "print('\\n')\n",
    " \n",
    "# You can use for loops to cycle through a list\n",
    "grocery_list = ['Juice', 'Tomatoes', 'Potatoes', 'Bananas']\n",
    " \n",
    "for y in grocery_list:\n",
    "    print(y)\n",
    " \n",
    "# You can also define a list of numbers to cycle through\n",
    "for x in [2,4,6,8,10]:\n",
    "    print(x)\n",
    " \n",
    "# You can double up for loops to cycle through lists\n",
    "num_list =[[1,2,3],[10,20,30],[100,200,300]];\n",
    " \n",
    "for x in range(0,3):\n",
    "    for y in range(0,3):\n",
    "        print(num_list[x][y])\n",
    "        \n",
    "# WHILE LOOPS -------------\n",
    "# While loops are used when you don't know ahead of time how many\n",
    "# times you'll have to loop\n",
    "random_num = random.randrange(0,100)\n",
    " \n",
    "while (random_num != 15):\n",
    "    print(random_num)\n",
    "    random_num = random.randrange(0,100)\n",
    " \n",
    "# An iterator for a while loop is defined before the loop\n",
    "i = 0;\n",
    "while (i <= 20):\n",
    "    if(i%2 == 0):\n",
    "        print(i)\n",
    "    elif(i == 9):\n",
    "        # Forces the loop to end all together\n",
    "        break\n",
    "    else:\n",
    "        # Shorthand for i = i + 1\n",
    "        i += 1\n",
    "        # Skips to the next iteration of the loop\n",
    "        continue\n",
    " \n",
    "    i += 1"
   ]
  },
  {
   "cell_type": "markdown",
   "metadata": {},
   "source": [
    "# Functions"
   ]
  },
  {
   "cell_type": "code",
   "execution_count": 9,
   "metadata": {},
   "outputs": [
    {
     "name": "stdout",
     "output_type": "stream",
     "text": [
      "5\n",
      "-3\n"
     ]
    }
   ],
   "source": [
    "def addNumbers(fNum, sNum):\n",
    "    sumNum = fNum + sNum\n",
    "    return sumNum\n",
    " \n",
    "print(addNumbers(1, 4))\n",
    " \n",
    "# Can't get the value of rNum because it was created in a function\n",
    "# It is said to be out of scope\n",
    "# print(sumNum)\n",
    " \n",
    "# If you define a variable outside of the function it works every place\n",
    "newNum = 0;\n",
    "def subNumbers(fNum, sNum):\n",
    "    newNum = fNum - sNum\n",
    "    return newNum\n",
    " \n",
    "print(subNumbers(1, 4))"
   ]
  },
  {
   "cell_type": "markdown",
   "metadata": {},
   "source": [
    "# Input"
   ]
  },
  {
   "cell_type": "code",
   "execution_count": 37,
   "metadata": {},
   "outputs": [
    {
     "name": "stdout",
     "output_type": "stream",
     "text": [
      "What is your name?\n",
      "Hello \n"
     ]
    }
   ],
   "source": [
    "import sys\n",
    "print('What is your name?')\n",
    " \n",
    "# Stores everything typed up until ENTER\n",
    "\n",
    "#Should have the user enter a name but DOESNT WORK ON HERE!!\n",
    "name = sys.stdin.readline()\n",
    " \n",
    "print('Hello', name)"
   ]
  },
  {
   "cell_type": "markdown",
   "metadata": {},
   "source": [
    "# FILE I/O "
   ]
  },
  {
   "cell_type": "code",
   "execution_count": 15,
   "metadata": {},
   "outputs": [
    {
     "name": "stdout",
     "output_type": "stream",
     "text": [
      "wb\n",
      "test.txt\n",
      "Write me to the file\n",
      "\n"
     ]
    }
   ],
   "source": [
    "# Overwrite or create a file for writing\n",
    "test_file = open(\"test.txt\", \"wb\")\n",
    " \n",
    "# Get the file mode used\n",
    "print(test_file.mode)\n",
    " \n",
    "# Get the files name\n",
    "print(test_file.name)\n",
    " \n",
    "# Write text to a file with a newline\n",
    "test_file.write(bytes(\"Write me to the file\\n\", 'UTF-8'))\n",
    " \n",
    "# Close the file\n",
    "test_file.close()\n",
    " \n",
    "# Opens a file for reading and writing\n",
    "test_file = open(\"test.txt\", \"r+\")\n",
    " \n",
    "# Read text from the file\n",
    "text_in_file = test_file.read()\n",
    " \n",
    "print(text_in_file)\n",
    "\n",
    "test_file.close()\n",
    " \n",
    "# Delete the file\n",
    "os.remove(\"test.txt\")"
   ]
  },
  {
   "cell_type": "markdown",
   "metadata": {},
   "source": [
    "# CLASSES AND OBJECTS"
   ]
  },
  {
   "cell_type": "code",
   "execution_count": 1,
   "metadata": {},
   "outputs": [
    {
     "name": "stdout",
     "output_type": "stream",
     "text": [
      "Whiskers is 33 cm tall and 10 kilograms and says Meow\n"
     ]
    }
   ],
   "source": [
    "class Animal:\n",
    "    # None signifies the lack of a value\n",
    "    # You can make a variable private by starting it with __\n",
    "    __name = None\n",
    "    __height = None\n",
    "    __weight = None\n",
    "    __sound = None\n",
    " \n",
    "    # The constructor is called to set up or initialize an object\n",
    "    # self allows an object to refer to itself inside of the class\n",
    "    def __init__(self, name, height, weight, sound):\n",
    "        self.__name = name\n",
    "        self.__height = height\n",
    "        self.__weight = weight\n",
    "        self.__sound = sound\n",
    " \n",
    "    def set_name(self, name):\n",
    "        self.__name = name\n",
    " \n",
    "    def set_height(self, height):\n",
    "        self.__height = height\n",
    " \n",
    "    def set_weight(self, height):\n",
    "        self.__height = height\n",
    " \n",
    "    def set_sound(self, sound):\n",
    "        self.__sound = sound\n",
    " \n",
    "    def get_name(self):\n",
    "        return self.__name\n",
    " \n",
    "    def get_height(self):\n",
    "        return str(self.__height)\n",
    " \n",
    "    def get_weight(self):\n",
    "        return str(self.__weight)\n",
    " \n",
    "    def get_sound(self):\n",
    "        return self.__sound\n",
    " \n",
    "    def get_type(self):\n",
    "        print(\"Animal\")\n",
    " \n",
    "    def toString(self):\n",
    "        return \"{} is {} cm tall and {} kilograms and says {}\".format(self.__name, self.__height, self.__weight, self.__sound)\n",
    " \n",
    "# How to create a Animal object\n",
    "cat = Animal('Whiskers', 33, 10, 'Meow')\n",
    " \n",
    "print(cat.toString())"
   ]
  },
  {
   "cell_type": "markdown",
   "metadata": {},
   "source": [
    "# NUMPY\n"
   ]
  },
  {
   "cell_type": "code",
   "execution_count": 33,
   "metadata": {},
   "outputs": [
    {
     "name": "stdout",
     "output_type": "stream",
     "text": [
      "First Matrix\n",
      " [[0 3 5]\n",
      " [5 5 2]] \n",
      "Second Matrix\n",
      " [[ 3  4]\n",
      " [ 3 -2]\n",
      " [ 4 -2]]\n",
      "Result\n",
      " [[ 29 -16]\n",
      " [ 38   6]]\n"
     ]
    }
   ],
   "source": [
    "import numpy as np\n",
    "from numpy import *\n",
    "\n",
    "x =  np.matrix(\"(0,3,5);(5,5,2)\")\n",
    "\n",
    "y = np.matrix(\"(3,4);(3,-2);(4,-2)\")\n",
    "\n",
    "\n",
    "\n",
    "result = x.dot(y)\n",
    "\n",
    "print(\"First Matrix\\n\", x,\"\\nSecond Matrix\\n\",y)\n",
    "\n",
    "print(\"Result\\n\",result)"
   ]
  },
  {
   "cell_type": "code",
   "execution_count": 34,
   "metadata": {},
   "outputs": [
    {
     "name": "stdout",
     "output_type": "stream",
     "text": [
      "First Matrix\n",
      " [[1 2]\n",
      " [3 4]] \n",
      "Second Matrix\n",
      " [[5 5]\n",
      " [7 8]]\n",
      "Result\n",
      " [[19 21]\n",
      " [43 47]]\n"
     ]
    }
   ],
   "source": [
    "import numpy as np\n",
    "from numpy import *\n",
    "\n",
    "x =  np.matrix(\"(1,2);(3,4)\")\n",
    "\n",
    "y = np.matrix(\"(5,5);(7,8)\")\n",
    "\n",
    "\n",
    "\n",
    "result = x.dot(y)\n",
    "\n",
    "print(\"First Matrix\\n\", x,\"\\nSecond Matrix\\n\",y)\n",
    "\n",
    "print(\"Result\\n\",result)"
   ]
  },
  {
   "cell_type": "code",
   "execution_count": 35,
   "metadata": {},
   "outputs": [
    {
     "name": "stdout",
     "output_type": "stream",
     "text": [
      "First Matrix\n",
      " [[1 3 5 7]\n",
      " [2 4 6 8]] \n",
      "Second Matrix\n",
      " [[ 1  8  9]\n",
      " [ 2  7 10]\n",
      " [ 3  6 11]\n",
      " [ 4  5 12]]\n",
      "Result\n",
      " [[ 50  94 178]\n",
      " [ 60 120 220]]\n"
     ]
    }
   ],
   "source": [
    "import numpy as np\n",
    "from numpy import *\n",
    "\n",
    "x =  np.matrix(\"(1,3,5,7);(2,4,6,8)\")\n",
    "\n",
    "y = np.matrix(\"(1,8,9);(2,7,10);(3,6,11);(4,5,12)\")\n",
    "\n",
    "\n",
    "\n",
    "result = x.dot(y)\n",
    "\n",
    "print(\"First Matrix\\n\", x,\"\\nSecond Matrix\\n\",y)\n",
    "\n",
    "print(\"Result\\n\",result)"
   ]
  },
  {
   "cell_type": "markdown",
   "metadata": {},
   "source": [
    "# MATPLOTLIB\n",
    "\n",
    "[![IMAGE ALT TEXT](http://img.youtube.com/vi/q7Bo_J8x_dw/0.jpg)](http://www.youtube.com/watch?v=q7Bo_J8x_dw \"MATPLOTLIB Series\")"
   ]
  },
  {
   "cell_type": "code",
   "execution_count": 16,
   "metadata": {},
   "outputs": [
    {
     "data": {
      "image/png": "[encoded data removed]",
      "text/plain": [
       "<matplotlib.figure.Figure at 0x23bb7367fd0>"
      ]
     },
     "metadata": {},
     "output_type": "display_data"
    }
   ],
   "source": [
    "#pca/lda****************************\n",
    "\n",
    "# Scatter plot\n",
    "\n",
    "import matplotlib.pyplot as plt\n",
    "\n",
    "#creating random x,y values for the chart\n",
    "x = [1,2,3,4,5,6,7,8]\n",
    "y = [2,4,6,7,6,8,1,3]\n",
    "\n",
    "#creating the actual scatter plot giving title and values\n",
    "# color is the color of the points\n",
    "# marker is just what the point look like i.e 'o','*'\n",
    "# s is the size of the plots\n",
    "plt.scatter(x,y, label='ScatterBug', color='b' ,marker='*', s=100)\n",
    "# general infomation of the chart\n",
    "plt.xlabel('x')\n",
    "plt.ylabel('y')\n",
    "plt.title('My First Graph \\nits awesome')\n",
    "plt.legend()\n",
    "plt.show()"
   ]
  },
  {
   "cell_type": "code",
   "execution_count": 22,
   "metadata": {},
   "outputs": [
    {
     "data": {
      "image/png": "[encoded data removed]",
      "text/plain": [
       "<matplotlib.figure.Figure at 0x23bb71f1128>"
      ]
     },
     "metadata": {},
     "output_type": "display_data"
    }
   ],
   "source": [
    "import matplotlib.pyplot as plt\n",
    "\n",
    "#creating random x,y values for the chart\n",
    "x = [1,2,3,]\n",
    "y = [2,4,5]\n",
    "\n",
    "x2 = [1,2,3]\n",
    "y2 = [5,7,4]\n",
    "\n",
    "plt.plot(x,y, label='first line')\n",
    "plt.plot(x2,y2,label='second line')\n",
    "\n",
    "plt.xlabel('x')\n",
    "plt.ylabel('y')\n",
    "plt.title('My Graph \\nits awesome')\n",
    "plt.legend()\n",
    "plt.show()"
   ]
  },
  {
   "cell_type": "code",
   "execution_count": 25,
   "metadata": {},
   "outputs": [
    {
     "data": {
      "image/png": "[encoded data removed]",
      "text/plain": [
       "<matplotlib.figure.Figure at 0x23bb6f60ef0>"
      ]
     },
     "metadata": {},
     "output_type": "display_data"
    }
   ],
   "source": [
    "# Histograms - like a bar chart but instead...\n",
    "# it groups the similar data ranges together\n",
    "import matplotlib.pyplot as plt\n",
    "\n",
    "population_ages = [22,55,62,45,21,22,34,42,42,4,99,102,110,120,121,122,130,111,115,112,80,75,65,54,44,43,42,48]\n",
    "\n",
    "bins = [0,10,20,30,40,50,60,70,80,90,100,110,120,130]\n",
    "\n",
    "plt.hist(population_ages, bins, histtype='bar', rwidth=0.8, label='hist')\n",
    "\n",
    "plt.xlabel('x')\n",
    "plt.ylabel('y')\n",
    "plt.title('Interesting Graph\\nCheck it out')\n",
    "plt.legend()\n",
    "plt.show()"
   ]
  }
 ],
 "metadata": {
  "kernelspec": {
   "display_name": "Python 3",
   "language": "python",
   "name": "python3"
  },
  "language_info": {
   "codemirror_mode": {
    "name": "ipython",
    "version": 3
   },
   "file_extension": ".py",
   "mimetype": "text/x-python",
   "name": "python",
   "nbconvert_exporter": "python",
   "pygments_lexer": "ipython3",
   "version": "3.6.1"
  }
 },
 "nbformat": 4,
 "nbformat_minor": 2
}
