{
 "cells": [
  {
   "cell_type": "markdown",
   "metadata": {},
   "source": [
    "<img style=\"width:450px;\" src=\"https://durhamcollege.ca/wp-content/uploads/ai-hub-header.jpg\" alt=\"DC Logo\"/>"
   ]
  },
  {
   "cell_type": "markdown",
   "metadata": {},
   "source": [
    "# LESSON 9 - Practical Regression\n",
    "\n",
    "## <span style=\"color: green\">OVERVIEW</span>\n",
    "\n",
    "<hr />\n",
    "\n",
    ">**Section 1:** <a href=\"#Linear-Regression\">Linear Regression</a>\n",
    "\n",
    ">**Section 2:** <a href=\"#Logistic-Regression\">Logistic Regression</a>\n",
    "\n",
    ">**Section 3:** <a href=\"#Polynomial-Regression\">Polynomial Regression</a>\n",
    "\n",
    "<hr />\n",
    "\n",
    "This lesson takes the content from lessons 6 through 8 and guides you through a practical application of Linear, Logistic, and Polynomial Regression.\n",
    "\n",
    "## <span style=\"color: green\">SECTION 1</span>\n",
    "\n",
    "### <span style=\"color: blue\">Linear Regression</span>\n",
    "\n",
    "**Lets take a look at some data, ask some questions and use linear regression to solve said questions.**"
   ]
  },
  {
   "cell_type": "code",
   "execution_count": 610,
   "metadata": {},
   "outputs": [
    {
     "data": {
      "text/html": [
       "<div>\n",
       "<style>\n",
       "    .dataframe thead tr:only-child th {\n",
       "        text-align: right;\n",
       "    }\n",
       "\n",
       "    .dataframe thead th {\n",
       "        text-align: left;\n",
       "    }\n",
       "\n",
       "    .dataframe tbody tr th {\n",
       "        vertical-align: top;\n",
       "    }\n",
       "</style>\n",
       "<table border=\"1\" class=\"dataframe\">\n",
       "  <thead>\n",
       "    <tr style=\"text-align: right;\">\n",
       "      <th></th>\n",
       "      <th>Date</th>\n",
       "      <th>Open</th>\n",
       "      <th>High</th>\n",
       "      <th>Low</th>\n",
       "      <th>Close</th>\n",
       "      <th>Volume</th>\n",
       "    </tr>\n",
       "  </thead>\n",
       "  <tbody>\n",
       "    <tr>\n",
       "      <th>0</th>\n",
       "      <td>26-Feb-16</td>\n",
       "      <td>708.58</td>\n",
       "      <td>713.43</td>\n",
       "      <td>700.86</td>\n",
       "      <td>705.07</td>\n",
       "      <td>2239978</td>\n",
       "    </tr>\n",
       "    <tr>\n",
       "      <th>1</th>\n",
       "      <td>25-Feb-16</td>\n",
       "      <td>700.01</td>\n",
       "      <td>705.98</td>\n",
       "      <td>690.58</td>\n",
       "      <td>705.75</td>\n",
       "      <td>1631855</td>\n",
       "    </tr>\n",
       "    <tr>\n",
       "      <th>2</th>\n",
       "      <td>24-Feb-16</td>\n",
       "      <td>688.92</td>\n",
       "      <td>700.00</td>\n",
       "      <td>680.78</td>\n",
       "      <td>699.56</td>\n",
       "      <td>1958611</td>\n",
       "    </tr>\n",
       "  </tbody>\n",
       "</table>\n",
       "</div>"
      ],
      "text/plain": [
       "        Date    Open    High     Low   Close   Volume\n",
       "0  26-Feb-16  708.58  713.43  700.86  705.07  2239978\n",
       "1  25-Feb-16  700.01  705.98  690.58  705.75  1631855\n",
       "2  24-Feb-16  688.92  700.00  680.78  699.56  1958611"
      ]
     },
     "execution_count": 610,
     "metadata": {},
     "output_type": "execute_result"
    }
   ],
   "source": [
    "# imports\n",
    "import numpy as np\n",
    "from sklearn import linear_model\n",
    "import matplotlib.pyplot as plt\n",
    "import pandas as pd\n",
    "\n",
    "# this allows plots to appear directly in the notebook\n",
    "%matplotlib inline\n",
    "\n",
    "# read data into a DataFrame and verify contents\n",
    "data = pd.read_csv('./goog.csv')\n",
    "data.head(3)"
   ]
  },
  {
   "cell_type": "markdown",
   "metadata": {},
   "source": [
    "<hr />\n",
    "\n",
    "**Now that we have our dataset, lets split the dates and prices into their own frames.**"
   ]
  },
  {
   "cell_type": "code",
   "execution_count": 611,
   "metadata": {},
   "outputs": [
    {
     "name": "stdout",
     "output_type": "stream",
     "text": [
      "[[708.58]\n",
      " [700.01]\n",
      " [688.92]\n",
      " [701.45]\n",
      " [707.45]\n",
      " [695.03]\n",
      " [710.0]\n",
      " [699.0]\n",
      " [692.98]\n",
      " [690.26]\n",
      " [675.0]\n",
      " [686.86]\n",
      " [672.32]\n",
      " [667.85]\n",
      " [703.87]\n",
      " [722.81]\n",
      " [770.22]\n",
      " [784.5]\n",
      " [750.46]]\n"
     ]
    }
   ],
   "source": [
    "# create a dataframe for the dates\n",
    "# select the days only from the Date column using a for loop\n",
    "dates = [int(i.split('-')[0]) for i in np.array(data)[:,0]]\n",
    "\n",
    "# create a dataframe for the open prices\n",
    "# select the data in the Open column\n",
    "prices = np.array(data)[:,1]\n",
    "\n",
    "# create a dataframe for the high prices\n",
    "# select the data from the High column\n",
    "high = np.array(data)[:,2]\n",
    "\n",
    "prices = np.array([prices]).T\n",
    "dates = np.array([dates]).T\n",
    "#high = np.array([high]).T\n",
    "#prices = np.hstack((price, high))\n",
    "\n",
    "#print(dates)\n",
    "print(prices)\n",
    "#print(high)"
   ]
  },
  {
   "cell_type": "markdown",
   "metadata": {},
   "source": [
    "<hr />\n",
    "\n",
    "**With our price and date data split, we can now create functions to simplify the process.**\n",
    "\n",
    "**The first function will be for predicting the price of a stock on day 'x'.**"
   ]
  },
  {
   "cell_type": "code",
   "execution_count": 612,
   "metadata": {
    "collapsed": true
   },
   "outputs": [],
   "source": [
    "# define a function for predicting the price\n",
    "# given the dates and prices in a dataframe \n",
    "# and a day value represented as x\n",
    "def predict_price(dates, prices, x):\n",
    "    # initialize the linear regression model\n",
    "    linear_mod = linear_model.LinearRegression()\n",
    "    # fit the data to the model\n",
    "    linear_mod.fit(dates, prices)\n",
    "    # store the result of linear prediction at value x\n",
    "    predicted_price = linear_mod.predict(x)\n",
    "    # return the predicted price, linear coefficient, and the intercept\n",
    "    return predicted_price, linear_mod.coef_, linear_mod.intercept_"
   ]
  },
  {
   "cell_type": "markdown",
   "metadata": {},
   "source": [
    "<hr />\n",
    "\n",
    "**Next, in order to properly show the variation in our methods, let's create a function for plotting our data points.**\n",
    "\n",
    "**The second function will be for displaying a visualized plot of our data and prediction.**"
   ]
  },
  {
   "cell_type": "code",
   "execution_count": 613,
   "metadata": {
    "collapsed": true
   },
   "outputs": [],
   "source": [
    "# define a function for displaying a plot given\n",
    "# the dates and prices data as X and Y values\n",
    "def show_plot(dates, prices):\n",
    "    # initialize the linear regression model\n",
    "    linear_mod = linear_model.LinearRegression()\n",
    "    # fit the submitted data to the model\n",
    "    linear_mod.fit(dates, prices)\n",
    "    # mark the scatter points using the dates and prices as X and Y values\n",
    "    plt.scatter(dates, prices, color='lime')\n",
    "    # plot the line of best fit using our model prediction\n",
    "    plt.plot(dates, linear_mod.predict(dates), color='blue', linewidth=3)\n",
    "    #display the model\n",
    "    plt.show()\n",
    "    return"
   ]
  },
  {
   "cell_type": "markdown",
   "metadata": {},
   "source": [
    "<hr />\n",
    "\n",
    "**With our functions in place let's test them!**"
   ]
  },
  {
   "cell_type": "code",
   "execution_count": 614,
   "metadata": {},
   "outputs": [
    {
     "data": {
      "text/plain": [
       "(array([[ 664.37196832]]), array([[-1.65535515]]), array([ 728.93081909]))"
      ]
     },
     "execution_count": 614,
     "metadata": {},
     "output_type": "execute_result"
    }
   ],
   "source": [
    "# display the result of the predict_prices function\n",
    "# pass the function the dates, prices, and an x value\n",
    "predict_price(dates, prices, 39)"
   ]
  },
  {
   "cell_type": "markdown",
   "metadata": {},
   "source": [
    "<hr />\n",
    "\n",
    "**Now let's view our plot.**"
   ]
  },
  {
   "cell_type": "code",
   "execution_count": 615,
   "metadata": {},
   "outputs": [
    {
     "data": {
      "image/png": "[encoded data removed]",
      "text/plain": [
       "<matplotlib.figure.Figure at 0x2bd30f04d30>"
      ]
     },
     "metadata": {},
     "output_type": "display_data"
    }
   ],
   "source": [
    "# display the result of the show_plot function\n",
    "show_plot(dates, prices)"
   ]
  },
  {
   "cell_type": "markdown",
   "metadata": {},
   "source": [
    "## <span style=\"color: green\">SECTION 2</span>\n",
    "\n",
    "### <span style=\"color: blue\">Logistic Regression</span>\n",
    "\n",
    "\n",
    "**For this practical example we will be using a prepared dataset provided by sklearn's 'datasets' class.**\n",
    "\n",
    "**The dataset we will be using is called *'iris'*. The goal for this example is to predict the target value by using the feature values**."
   ]
  },
  {
   "cell_type": "code",
   "execution_count": 616,
   "metadata": {
    "collapsed": true
   },
   "outputs": [],
   "source": [
    "# import required libraries\n",
    "import numpy as np\n",
    "import matplotlib.pyplot as plt\n",
    "import pandas as pd\n",
    "from sklearn import linear_model, datasets"
   ]
  },
  {
   "cell_type": "markdown",
   "metadata": {},
   "source": [
    "<hr />\n",
    "\n",
    "**This enables us to simply load a dataset by calling a simple function that returns a *'bunch'* of data - quite literally.**\n",
    "\n",
    "<hr />\n",
    "\n",
    "A *'bunch'* is similar to a data-dictionary, as it provides attributes for our dataset, mainly:\n",
    "\n",
    ">**‘data’, the data to learn**\n",
    "\n",
    ">**‘target’, the classification labels**\n",
    "\n",
    ">‘target_names’, the meaning of the labels\n",
    "\n",
    ">‘feature_names’, the meaning of the features\n",
    "\n",
    ">‘DESCR’, the full description of the dataset\n",
    "\n",
    "**In order to build our new dataframe - we will need to extract the data and the target!**\n",
    "\n",
    "<hr />\n",
    "\n",
    "*The code below will load the **iris** dataset's **bunch** of data so we can then store it in a dataframe.*\n",
    "\n",
    ">*iris = datasets.load_iris()*\n",
    "\n",
    "\n",
    "*Click the link below to learn more about this command and the other datasets: *\n",
    "\n",
    "<a href=\"http://scikit-learn.org/stable/modules/generated/sklearn.datasets.load_iris.html\">Documentation</a>\n",
    "\n",
    "<hr />\n",
    "\n",
    "**With the above in mind, let's get the *iris dataset bunch* so we can turn it into a dataframe using pandas' *'DataFrame()'* function.**"
   ]
  },
  {
   "cell_type": "code",
   "execution_count": 617,
   "metadata": {},
   "outputs": [
    {
     "name": "stdout",
     "output_type": "stream",
     "text": [
      "['sepal length (cm)', 'sepal width (cm)', 'petal length (cm)', 'petal width (cm)']\n"
     ]
    }
   ],
   "source": [
    "# import some data to play with using sklearn's datasets.load_iris() function\n",
    "iris = datasets.load_iris()\n",
    "# display the chunk feature names or description\n",
    "print(iris.feature_names)\n",
    "\n",
    "# use pandas to combine the data with the target\n",
    "# define the column/feature names for our new dataframe\n",
    "df = pd.DataFrame(np.c_[iris.data, iris.target], columns = [\"Sepal Length\", \"Sepal Width\", \n",
    "                                                            \"Petal Length\", \"Petal Width\", \n",
    "                                                            \"Class\"])\n",
    "# verify successful creation of the dataframe\n",
    "#df.head()"
   ]
  },
  {
   "cell_type": "markdown",
   "metadata": {},
   "source": [
    "<i>It is always good practice to verify your data before continuing to the next step!</i>\n",
    "\n",
    "<hr />\n",
    "<br />\n",
    "<b>With our dataset extracted into a dataframe, let's now select the features we want to use to plot our logistic regression.\n",
    "<br /><br />\n",
    "This will extract the data for the selected features and allow us to combine it with the target values in a new dataframe.\n",
    "</b>\n",
    "\n",
    ">After we have our sub-frame of selected features and their relative target values; We can randomize the order using *shuffle* to increase the variability between results.\n",
    "\n",
    "<b>\n",
    "By shuffling before splitting our data into training and testing pools, it will help us to verify the effectiveness of the logistic regression model on our data by ensuring it is always trained/tested on a different series of data.\n",
    "</b>\n",
    "\n",
    "#### Target Values:\n",
    "- Setosa\n",
    "- Versicolour\n",
    "- Virginica"
   ]
  },
  {
   "cell_type": "code",
   "execution_count": 618,
   "metadata": {},
   "outputs": [],
   "source": [
    "# select the first two features from the bunch data and combine it with the target values\n",
    "data = np.c_[iris.data[:, :2], iris.target]\n",
    "\n",
    "# shuffle the data for increased variability when splitting into train/test\n",
    "np.random.shuffle(data)\n",
    "\n",
    "#print(data)"
   ]
  },
  {
   "cell_type": "markdown",
   "metadata": {},
   "source": [
    "<hr />\n",
    "\n",
    "**Now that we have our data together and randomized, let's assign the 'X' and 'y' data to be plotted.**\n",
    "\n",
    "**We can do this by simply selecting all rows (:), and then specifying the column number we want as our starting point (:# or #:).**"
   ]
  },
  {
   "cell_type": "code",
   "execution_count": 619,
   "metadata": {},
   "outputs": [],
   "source": [
    "# for the X values, we want the first two columns ( :2 )\n",
    "X = data[:, :2]\n",
    "\n",
    "# for the y values, we want the last column, or everything after the first two ( 2: )\n",
    "y = data[:, 2:]\n",
    "\n",
    "#print(X)\n",
    "#print(y)"
   ]
  },
  {
   "cell_type": "markdown",
   "metadata": {},
   "source": [
    "<hr />\n",
    "\n",
    "**Our data is now ready to be split into training and test sets.**\n",
    "\n",
    "**However, before we split it, let's determine the point at which it will be split.**\n",
    "\n",
    ">*We determine this using a factor of the data's shape to determine a row value which represents a location 70 percent of the way through the data.*\n",
    "\n",
    "**For the training data we will select all of the data following the calculated row.**"
   ]
  },
  {
   "cell_type": "code",
   "execution_count": 620,
   "metadata": {},
   "outputs": [],
   "source": [
    "# determine the percentile split of data for training and testing\n",
    "# 0.7 is equal to 70/30 : test/train\n",
    "test_train_split = 0.7\n",
    "\n",
    "# get the training data for X using it's shape multiplied by \n",
    "# the split that was determined above to select the data AFTER that row\n",
    "X_training = X[:int(X.shape[0]*test_train_split),:]\n",
    "#print(int(X.shape[0]*train_test_split))\n",
    "\n",
    "# get the training data for Y using it's shape multiplied by \n",
    "# the split that was determined above to select the data AFTER that row\n",
    "y_training = y[:int(y.shape[0]*test_train_split)]\n",
    "#print(int(y.shape[0]*train_test_split))"
   ]
  },
  {
   "cell_type": "markdown",
   "metadata": {},
   "source": [
    "<hr />\n",
    "\n",
    "**Our training data is prepared, now all we need to do is change the position of the ':' to select the data preceding the calculated row.**\n",
    "\n",
    "**This technique makes it easy to manually assign data on the fly when tinkering with what is the most effective train/test split for your data.**\n",
    "\n",
    ">*That being said, a split of 70/30 is the most common and should suffice in the majority of cases!*"
   ]
  },
  {
   "cell_type": "code",
   "execution_count": 621,
   "metadata": {},
   "outputs": [],
   "source": [
    "# get the training data for X using it's shape multiplied by \n",
    "# the split that was determined above to select the data BEFORE that row\n",
    "X_testing = X[int(X.shape[0]*test_train_split):,:]\n",
    "\n",
    "# get the training data for Y using it's shape multiplied by \n",
    "# the split that was determined above to select the data BEFORE that row\n",
    "y_testing = y[int(y.shape[0]*test_train_split):]\n",
    "\n",
    "#print(X_testing)"
   ]
  },
  {
   "cell_type": "markdown",
   "metadata": {},
   "source": [
    "<hr />\n",
    "\n",
    "#### We should now take a look at our data to make sure everything looks okay"
   ]
  },
  {
   "cell_type": "code",
   "execution_count": 622,
   "metadata": {
    "collapsed": true
   },
   "outputs": [],
   "source": [
    "#print(y_testing)\n",
    "#print(y_testing.ravel())\n",
    "#print(y_testing.shape)"
   ]
  },
  {
   "cell_type": "markdown",
   "metadata": {},
   "source": [
    "<hr />\n",
    "\n",
    "#### If our data looks good, it's time to initialize the logistic regression model we imported from sklearn"
   ]
  },
  {
   "cell_type": "code",
   "execution_count": 623,
   "metadata": {
    "collapsed": true
   },
   "outputs": [],
   "source": [
    "# Initialize the model using the LogisticRegression function\n",
    "logreg = linear_model.LogisticRegression()"
   ]
  },
  {
   "cell_type": "markdown",
   "metadata": {},
   "source": [
    "<hr />\n",
    "\n",
    "<b>Then we need to fit the training data to the model</b>"
   ]
  },
  {
   "cell_type": "code",
   "execution_count": 624,
   "metadata": {},
   "outputs": [
    {
     "data": {
      "text/plain": [
       "LogisticRegression(C=1.0, class_weight=None, dual=False, fit_intercept=True,\n",
       "          intercept_scaling=1, max_iter=100, multi_class='ovr', n_jobs=1,\n",
       "          penalty='l2', random_state=None, solver='liblinear', tol=0.0001,\n",
       "          verbose=0, warm_start=False)"
      ]
     },
     "execution_count": 624,
     "metadata": {},
     "output_type": "execute_result"
    }
   ],
   "source": [
    "# We use the initialized function to then fit the data.\n",
    "logreg.fit(X_training, y_training.ravel())"
   ]
  },
  {
   "cell_type": "markdown",
   "metadata": {},
   "source": [
    "<hr />\n",
    "\n",
    "<b>\n",
    " With the training data fit, we can now run prediction on the test data using the '*predict()*' function\n",
    "</b>"
   ]
  },
  {
   "cell_type": "code",
   "execution_count": 625,
   "metadata": {},
   "outputs": [],
   "source": [
    "# run prediction on the test data and store it as 'Z'\n",
    "Z = logreg.predict(X_testing)\n",
    "\n",
    "# compare the data\n",
    "#print(Z)\n",
    "#print(y_testing.ravel())"
   ]
  },
  {
   "cell_type": "markdown",
   "metadata": {},
   "source": [
    "<hr />\n",
    "\n",
    "<b>\n",
    "Now that we have our predictions, we need to define a function for determining the classification rate\n",
    "</b>"
   ]
  },
  {
   "cell_type": "code",
   "execution_count": 626,
   "metadata": {
    "collapsed": true
   },
   "outputs": [],
   "source": [
    "def classification_rate(y, Z):\n",
    "    num_right = 0\n",
    "    for i in range(len(Z)):\n",
    "        if y[i] == Z[i]:\n",
    "            num_right = num_right + 1\n",
    "    return num_right/Z.shape[0]"
   ]
  },
  {
   "cell_type": "markdown",
   "metadata": {},
   "source": [
    "<hr />\n",
    "\n",
    "<b>\n",
    "Let's execute the function we created above to compare the values, and then return an overall percentage of successful predictions\n",
    "</b>"
   ]
  },
  {
   "cell_type": "code",
   "execution_count": 627,
   "metadata": {},
   "outputs": [
    {
     "data": {
      "text/plain": [
       "0.7333333333333333"
      ]
     },
     "execution_count": 627,
     "metadata": {},
     "output_type": "execute_result"
    }
   ],
   "source": [
    "classification_rate(y_testing.ravel(), Z)"
   ]
  },
  {
   "cell_type": "markdown",
   "metadata": {},
   "source": [
    "<hr />\n",
    "\n",
    "### Well this isn't that great now is it?\n",
    "#### What comes next? \n",
    ">Well, a simple adaptation we can make is to implement ***K-fold Cross Validation*** training and see how our output changes\n",
    "\n",
    "<hr />\n",
    "\n",
    "<b>\n",
    "In order to do so we need to import the required libraries first\n",
    "</b>"
   ]
  },
  {
   "cell_type": "code",
   "execution_count": 628,
   "metadata": {
    "collapsed": true
   },
   "outputs": [],
   "source": [
    "from sklearn import metrics, model_selection\n",
    "from sklearn.linear_model import LogisticRegression"
   ]
  },
  {
   "cell_type": "markdown",
   "metadata": {},
   "source": [
    "<hr />\n",
    "\n",
    "<b>\n",
    "Now that we have the libraries we need, let's implement cross validation and see the classification rate of the predictions it creates.\n",
    "</b>"
   ]
  },
  {
   "cell_type": "code",
   "execution_count": 629,
   "metadata": {},
   "outputs": [
    {
     "name": "stdout",
     "output_type": "stream",
     "text": [
      "[ 0.74509804  0.70588235  0.77083333]\n"
     ]
    }
   ],
   "source": [
    "Z_cross_validation = model_selection.cross_val_predict(LogisticRegression(), X, y.ravel(), cv=10)\n",
    "\n",
    "print(model_selection.cross_val_score(LogisticRegression(), X, y.ravel()))"
   ]
  },
  {
   "cell_type": "markdown",
   "metadata": {},
   "source": [
    "<hr />\n",
    "\n",
    "**With our new cross validation predictions let's see what the classification rate changed too.**"
   ]
  },
  {
   "cell_type": "code",
   "execution_count": 630,
   "metadata": {},
   "outputs": [
    {
     "data": {
      "text/plain": [
       "0.7666666666666667"
      ]
     },
     "execution_count": 630,
     "metadata": {},
     "output_type": "execute_result"
    }
   ],
   "source": [
    "classification_rate(y.ravel(), Z_cross_validation)"
   ]
  },
  {
   "cell_type": "markdown",
   "metadata": {},
   "source": [
    "<hr />\n",
    "\n",
    "### This is not that much better...\n",
    "#### There are many different classification algorithms sklearn has available to utilize in a similar way to what was demonstrated above. \n",
    "\n",
    "The following will be touched on in future lessons:\n",
    "1. SVM\n",
    "2. Naive Bayes\n",
    "3. Decision Trees\n",
    "4. Random Forests\n",
    "5. Neural Networks\n",
    "\n",
    "<hr />"
   ]
  },
  {
   "cell_type": "markdown",
   "metadata": {},
   "source": [
    "## <span style=\"color: green\">SECTION 3</span>\n",
    "\n",
    "### <span style=\"color: blue\">Polynomial Regression</span>\n",
    "\n",
    "#### With the variety of classification available, it is important to understand the origin of many of these advanced regression analysis techniques - polynomial regression."
   ]
  },
  {
   "cell_type": "code",
   "execution_count": 631,
   "metadata": {
    "collapsed": true
   },
   "outputs": [],
   "source": [
    "import numpy as np\n",
    "# from scipy.interpolate import *\n",
    "import matplotlib.pyplot as plt\n",
    "\n",
    "%matplotlib inline"
   ]
  },
  {
   "cell_type": "markdown",
   "metadata": {},
   "source": [
    "#### We're going to take a look at some synthetic data for this one\n",
    "Hopefully this will help visualize what's going on a bit better"
   ]
  },
  {
   "cell_type": "code",
   "execution_count": 632,
   "metadata": {},
   "outputs": [
    {
     "name": "stdout",
     "output_type": "stream",
     "text": [
      "[0 1 2 3 4 5]\n",
      "[ 0.   0.8  0.9  0.1 -0.8 -0.5]\n"
     ]
    }
   ],
   "source": [
    "##### Create a couple arrays with \n",
    "X = np.array([0,1,2,3,4,5])\n",
    "y = np.array([0,0.8,0.9,0.1,-0.8,-0.5])\n",
    "\n",
    "# print to observe\n",
    "print(X)\n",
    "print(y)"
   ]
  },
  {
   "cell_type": "markdown",
   "metadata": {},
   "source": [
    "<hr />"
   ]
  },
  {
   "cell_type": "markdown",
   "metadata": {},
   "source": [
    "**Let's begin fitting our data. The polyfit method uses the sum of square errors to compute the line of best fit.**\n",
    "\n",
    "*In this first piece of code, we're going to stick with a straight line*"
   ]
  },
  {
   "cell_type": "code",
   "execution_count": 633,
   "metadata": {},
   "outputs": [
    {
     "name": "stdout",
     "output_type": "stream",
     "text": [
      "[-0.23142857  0.66190476]\n"
     ]
    }
   ],
   "source": [
    "# The last parameters is a 1 for now as we'll do linear to begin with\n",
    "# We will use the 'polyfit()' function to determine the slope \n",
    "# and intercept from our data\n",
    "p1 = np.polyfit(X, y, 1)\n",
    "\n",
    "# This prints the slope and intercept\n",
    "print(p1)"
   ]
  },
  {
   "cell_type": "markdown",
   "metadata": {},
   "source": [
    "<hr />\n",
    "\n",
    "<b>Now that we have our slope and intercept, let's plot it as a first degree polynomial</b>"
   ]
  },
  {
   "cell_type": "code",
   "execution_count": 634,
   "metadata": {},
   "outputs": [
    {
     "data": {
      "text/plain": [
       "[<matplotlib.lines.Line2D at 0x2bd30e0b240>]"
      ]
     },
     "execution_count": 634,
     "metadata": {},
     "output_type": "execute_result"
    },
    {
     "data": {
      "image/png": "[encoded data removed]",
      "text/plain": [
       "<matplotlib.figure.Figure at 0x2bd30e602e8>"
      ]
     },
     "metadata": {},
     "output_type": "display_data"
    }
   ],
   "source": [
    "# polyval plots the data with respect to the slope, intercept, and data\n",
    "plt.plot(X, np.polyval(p1, X), color='blue')"
   ]
  },
  {
   "cell_type": "markdown",
   "metadata": {},
   "source": [
    "<hr />\n",
    "#### Now we'll move on to quadratric and cubes functions and repeat the process"
   ]
  },
  {
   "cell_type": "code",
   "execution_count": 635,
   "metadata": {},
   "outputs": [
    {
     "data": {
      "text/plain": [
       "[<matplotlib.lines.Line2D at 0x2bd30e32eb8>]"
      ]
     },
     "execution_count": 635,
     "metadata": {},
     "output_type": "execute_result"
    },
    {
     "data": {
      "image/png": "[encoded data removed]",
      "text/plain": [
       "<matplotlib.figure.Figure at 0x2bd30e32208>"
      ]
     },
     "metadata": {},
     "output_type": "display_data"
    }
   ],
   "source": [
    "# use the polyfit() function\n",
    "p2 = np.polyfit(X, y, 2)\n",
    "p3 = np.polyfit(X, y, 3)\n",
    "\n",
    "# use polyval to plot the data again\n",
    "plt.plot(X, np.polyval(p2, X), color='lime')\n",
    "plt.plot(X, np.polyval(p3, X), color='red')"
   ]
  },
  {
   "cell_type": "markdown",
   "metadata": {},
   "source": [
    "<hr />\n",
    "\n",
    "*Observe the p1 values*"
   ]
  },
  {
   "cell_type": "code",
   "execution_count": 636,
   "metadata": {},
   "outputs": [
    {
     "data": {
      "text/plain": [
       "array([-0.23142857,  0.66190476])"
      ]
     },
     "execution_count": 636,
     "metadata": {},
     "output_type": "execute_result"
    }
   ],
   "source": [
    "p1 # y = Ax + b"
   ]
  },
  {
   "cell_type": "markdown",
   "metadata": {},
   "source": [
    "<hr />\n",
    "*Observe the p2 values*"
   ]
  },
  {
   "cell_type": "code",
   "execution_count": 637,
   "metadata": {},
   "outputs": [
    {
     "data": {
      "text/plain": [
       "array([-0.11607143,  0.34892857,  0.275     ])"
      ]
     },
     "execution_count": 637,
     "metadata": {},
     "output_type": "execute_result"
    }
   ],
   "source": [
    "p2 # y = Ax^2 + Bx + C"
   ]
  },
  {
   "cell_type": "markdown",
   "metadata": {},
   "source": [
    "<hr />\n",
    "*Observe the p3 values*"
   ]
  },
  {
   "cell_type": "code",
   "execution_count": 638,
   "metadata": {},
   "outputs": [
    {
     "data": {
      "text/plain": [
       "array([ 0.11018519, -0.94246032,  1.85846561, -0.05555556])"
      ]
     },
     "execution_count": 638,
     "metadata": {},
     "output_type": "execute_result"
    }
   ],
   "source": [
    "p3 # y = Ax^3 + Bx^2 + Cx + D"
   ]
  },
  {
   "cell_type": "markdown",
   "metadata": {},
   "source": [
    "<hr />\n",
    "\n",
    "<b>\n",
    "Now let's see how these plots all fit together.\n",
    "</b>"
   ]
  },
  {
   "cell_type": "code",
   "execution_count": 639,
   "metadata": {},
   "outputs": [
    {
     "data": {
      "text/plain": [
       "[<matplotlib.lines.Line2D at 0x2bd310fa6a0>]"
      ]
     },
     "execution_count": 639,
     "metadata": {},
     "output_type": "execute_result"
    },
    {
     "data": {
      "image/png": "[encoded data removed]",
      "text/plain": [
       "<matplotlib.figure.Figure at 0x2bd30b0b710>"
      ]
     },
     "metadata": {},
     "output_type": "display_data"
    }
   ],
   "source": [
    "# plot the data points\n",
    "# ('yo' just means yellow circle markers)\n",
    "plt.plot(X,y,'yo')\n",
    "\n",
    "xp = X\n",
    "#xp = np.linspace(-2,6,100)\n",
    "\n",
    "# plot the data\n",
    "plt.plot(xp, np.polyval(p1,xp), color='blue')\n",
    "plt.plot(xp, np.polyval(p2,xp), color='red')\n",
    "plt.plot(xp, np.polyval(p3,xp), color='lime')"
   ]
  },
  {
   "cell_type": "markdown",
   "metadata": {},
   "source": [
    "<hr />\n",
    "\n",
    "<b>Display the polynomial values for each defined point on the plot.</b>"
   ]
  },
  {
   "cell_type": "code",
   "execution_count": 640,
   "metadata": {},
   "outputs": [
    {
     "data": {
      "text/plain": [
       "array([-0.05555556,  0.97063492,  0.77301587,  0.01269841, -0.64920635,\n",
       "       -0.5515873 ])"
      ]
     },
     "execution_count": 640,
     "metadata": {},
     "output_type": "execute_result"
    }
   ],
   "source": [
    "np.polyval(p3, X)"
   ]
  },
  {
   "cell_type": "markdown",
   "metadata": {
    "collapsed": true
   },
   "source": [
    "<img style=\"width:350px;\" src=\"http://m.memegen.com/hn5ckz.jpg\" />"
   ]
  },
  {
   "cell_type": "code",
   "execution_count": null,
   "metadata": {
    "collapsed": true
   },
   "outputs": [],
   "source": []
  }
 ],
 "metadata": {
  "kernelspec": {
   "display_name": "Python 3",
   "language": "python",
   "name": "python3"
  },
  "language_info": {
   "codemirror_mode": {
    "name": "ipython",
    "version": 3
   },
   "file_extension": ".py",
   "mimetype": "text/x-python",
   "name": "python",
   "nbconvert_exporter": "python",
   "pygments_lexer": "ipython3",
   "version": "3.6.3"
  }
 },
 "nbformat": 4,
 "nbformat_minor": 2
}
