{
 "cells": [
  {
   "cell_type": "code",
   "execution_count": 2,
   "metadata": {
    "collapsed": true
   },
   "outputs": [],
   "source": [
    "import numpy as np"
   ]
  },
  {
   "cell_type": "code",
   "execution_count": 3,
   "metadata": {
    "collapsed": true
   },
   "outputs": [],
   "source": [
    "list = [1, 2, 3]\n",
    "c = np.asarray(list)\n",
    "# print(c)"
   ]
  },
  {
   "cell_type": "code",
   "execution_count": 4,
   "metadata": {
    "collapsed": true
   },
   "outputs": [],
   "source": [
    "c = np.array([1,2,3])\n",
    "shape = (2,2)\n",
    "c = np.empty(shape)\n",
    "d = np.ones(shape)\n",
    "e = np.zeros(shape)\n",
    "# print(c,d,e)\n",
    "# print(shape)"
   ]
  },
  {
   "cell_type": "code",
   "execution_count": 5,
   "metadata": {
    "collapsed": true
   },
   "outputs": [],
   "source": [
    "c = np.array([[1.,2.,],[1.,2.]])\n",
    "d = np.empty_like(c)\n",
    "# print(d)"
   ]
  },
  {
   "cell_type": "code",
   "execution_count": 53,
   "metadata": {},
   "outputs": [
    {
     "name": "stdout",
     "output_type": "stream",
     "text": [
      "[[1 1 2 3 4]]\n",
      "[[1 1 2 3 4]]\n",
      "[[4 6 7 8 9]\n",
      " [5 6 7 8 9]]\n",
      "[4 9 9 9 9]\n",
      "[[1]\n",
      " [2]\n",
      " [3]]\n",
      "[[1 2]\n",
      " [6 7]\n",
      " [6 7]\n",
      " [6 7]]\n"
     ]
    }
   ],
   "source": [
    "a = np.asarray([[1,1,2,3,4],\n",
    "                [2,6,7,8,9],\n",
    "                [3,6,7,8,9],\n",
    "                [4,6,7,8,9],\n",
    "                [5,6,7,8,9]\n",
    "               ])\n",
    "# print(a)\n",
    "b = np.asarray([[1,1],\n",
    "                [1,1]])\n",
    "# print(b)\n",
    "y = a[:1]\n",
    "print(y)\n",
    "y = a[0:1]\n",
    "print(y)\n",
    "y = a[3:5]\n",
    "print(y)\n",
    "x = a[:, -1]\n",
    "print(x)\n",
    "x = a[:3, 0:1]\n",
    "print(x)\n",
    "x = a[:4, 1:3]\n",
    "print(x)"
   ]
  },
  {
   "cell_type": "code",
   "execution_count": 14,
   "metadata": {},
   "outputs": [
    {
     "name": "stdout",
     "output_type": "stream",
     "text": [
      "[1 2 3 5 6 5 6]\n"
     ]
    }
   ],
   "source": [
    "a3 = np.array([1, 2, 3])\n",
    "b2 = np.array([5, 6])\n",
    "print(np.concatenate([a3, b2, b2]))"
   ]
  },
  {
   "cell_type": "code",
   "execution_count": 15,
   "metadata": {},
   "outputs": [
    {
     "name": "stdout",
     "output_type": "stream",
     "text": [
      "[[1 2]\n",
      " [3 4]\n",
      " [1 1]\n",
      " [1 1]]\n",
      "[[1 2 1 1]\n",
      " [3 4 1 1]]\n"
     ]
    }
   ],
   "source": [
    "a2 = np.array([[1, 2], [3, 4]])\n",
    "print(np.concatenate((a2, b), axis=0))\n",
    "print(np.concatenate((a2, b.T), axis=1))"
   ]
  },
  {
   "cell_type": "code",
   "execution_count": 9,
   "metadata": {},
   "outputs": [
    {
     "name": "stdout",
     "output_type": "stream",
     "text": [
      "[1 1 2 3 4 2 6 7 8 9 3 6 7 8 9 4 6 7 8 9 5 6 7 8 9 1 2 3 4]\n",
      "[1 1 2 3 4 2 6 7 8 9 3 6 7 8 9 4 6 7 8 9 5 6 7 8 9 1 1 2 3 4 2 6 7 8 9 3 6\n",
      " 7 8 9 4 6 7 8 9 5 6 7 8 9]\n"
     ]
    }
   ],
   "source": [
    "print(np.append(a, a2))\n",
    "print(np.append(a, a))"
   ]
  },
  {
   "cell_type": "code",
   "execution_count": 10,
   "metadata": {},
   "outputs": [
    {
     "name": "stdout",
     "output_type": "stream",
     "text": [
      "[[1 2]\n",
      " [3 4]\n",
      " [1 1]\n",
      " [1 1]]\n",
      "[[1 2 1 1]\n",
      " [3 4 1 1]]\n"
     ]
    }
   ],
   "source": [
    "print(np.append(a2, b, axis=0))\n",
    "print(np.append(a2, b.T, axis=1))"
   ]
  },
  {
   "cell_type": "code",
   "execution_count": 11,
   "metadata": {},
   "outputs": [
    {
     "name": "stdout",
     "output_type": "stream",
     "text": [
      "[[1 2 1 2]\n",
      " [3 4 3 4]]\n"
     ]
    }
   ],
   "source": [
    "print(np.hstack([a2, a2]))"
   ]
  },
  {
   "cell_type": "code",
   "execution_count": 12,
   "metadata": {},
   "outputs": [
    {
     "name": "stdout",
     "output_type": "stream",
     "text": [
      "[[1 2]\n",
      " [3 4]\n",
      " [5 6]]\n"
     ]
    }
   ],
   "source": [
    "print(np.vstack([a2, b2]))"
   ]
  },
  {
   "cell_type": "code",
   "execution_count": 13,
   "metadata": {},
   "outputs": [
    {
     "name": "stdout",
     "output_type": "stream",
     "text": [
      "[ 1.   2.   3.3]\n",
      "[1 2 3]\n"
     ]
    }
   ],
   "source": [
    "a = np.array([1, 2, 3.3])\n",
    "print(a)\n",
    "print(a.astype(int))"
   ]
  },
  {
   "cell_type": "code",
   "execution_count": 24,
   "metadata": {},
   "outputs": [
    {
     "name": "stdout",
     "output_type": "stream",
     "text": [
      "[[b'abc' b'abc' b'abc']\n",
      " [b'abc' b'abc' b'abc']\n",
      " [b'abc' b'abc' b'abc']]\n"
     ]
    }
   ],
   "source": [
    "chararray = np.chararray([3,3], itemsize=3)\n",
    "chararray[:] = 'abc'\n",
    "print(chararray)\n",
    "\n",
    "# intended output?\n",
    "# >> [['abc' 'abc' 'abc']\n",
    "#    ['abc' 'abc' 'abc']\n",
    "#    ['abc' 'abc' 'abc']]"
   ]
  },
  {
   "cell_type": "code",
   "execution_count": null,
   "metadata": {
    "collapsed": true
   },
   "outputs": [],
   "source": []
  },
  {
   "cell_type": "code",
   "execution_count": null,
   "metadata": {
    "collapsed": true
   },
   "outputs": [],
   "source": []
  }
 ],
 "metadata": {
  "kernelspec": {
   "display_name": "Python 3",
   "language": "python",
   "name": "python3"
  },
  "language_info": {
   "codemirror_mode": {
    "name": "ipython",
    "version": 3
   },
   "file_extension": ".py",
   "mimetype": "text/x-python",
   "name": "python",
   "nbconvert_exporter": "python",
   "pygments_lexer": "ipython3",
   "version": "3.6.1"
  }
 },
 "nbformat": 4,
 "nbformat_minor": 2
}
