{
 "cells": [
  {
   "cell_type": "code",
   "execution_count": 555,
   "metadata": {
    "collapsed": true
   },
   "outputs": [],
   "source": [
    "import numpy as np"
   ]
  },
  {
   "cell_type": "code",
   "execution_count": 560,
   "metadata": {
    "collapsed": true
   },
   "outputs": [],
   "source": [
    "class Demo:\n",
    "    \n",
    "    # INITIALIZE PRIVATE CLASS VARIABLES\n",
    "    def __init__(self):\n",
    "        self.arr1 = []\n",
    "        self.arr2 = []\n",
    "        self.varr = []\n",
    "        self.matrix = [[]]\n",
    "    \n",
    "    # FUNCTION ONE\n",
    "    def fun1(arr1, arr2):\n",
    "        Demo.arr1 = arr1\n",
    "        Demo.arr2 = arr2\n",
    "        # manipulation\n",
    "        result = np.dot(arr1, arr2)\n",
    "        return result\n",
    "    \n",
    "    # FUNCTION TWO\n",
    "    def fun2(varr):\n",
    "        Demo.varr = varr\n",
    "        # manipulation\n",
    "        Demo.harr = np.hstack(Demo.varr)\n",
    "        return Demo.harr\n",
    "    \n",
    "    # FUNCTION THREE\n",
    "    def fun3(dimx, dimy):\n",
    "        # manipulation\n",
    "        Demo.matrix = np.zeros(shape=(dimx, dimy))\n",
    "        return Demo.matrix\n",
    "    "
   ]
  },
  {
   "cell_type": "code",
   "execution_count": 570,
   "metadata": {},
   "outputs": [
    {
     "data": {
      "text/plain": [
       "array([[14, 40],\n",
       "       [20, 43]])"
      ]
     },
     "execution_count": 570,
     "metadata": {},
     "output_type": "execute_result"
    }
   ],
   "source": [
    "    data = [[1, 5],[3, 4]]\n",
    "    data2 = [[4, 5], [2, 7]]\n",
    "    data3 = [7, 8, 9, 10, 11, 12]\n",
    "    pointx = 4\n",
    "    pointy = 6\n",
    "    varr = np.vstack(data3)\n",
    "    \n",
    "    # call the first function (check dot product computable)\n",
    "    Demo.fun1(data, data2)\n",
    "    "
   ]
  },
  {
   "cell_type": "code",
   "execution_count": 571,
   "metadata": {},
   "outputs": [
    {
     "name": "stdout",
     "output_type": "stream",
     "text": [
      "[[ 7]\n",
      " [ 8]\n",
      " [ 9]\n",
      " [10]\n",
      " [11]\n",
      " [12]]\n"
     ]
    },
    {
     "data": {
      "text/plain": [
       "array([ 7,  8,  9, 10, 11, 12])"
      ]
     },
     "execution_count": 571,
     "metadata": {},
     "output_type": "execute_result"
    }
   ],
   "source": [
    "    # call the second function (v-array to h-array)\n",
    "    # display the array prior to manipulation\n",
    "    print(varr)\n",
    "    Demo.fun2(varr)\n",
    "    "
   ]
  },
  {
   "cell_type": "code",
   "execution_count": 568,
   "metadata": {},
   "outputs": [
    {
     "data": {
      "text/plain": [
       "array([[ 0.,  0.,  0.,  0.,  0.,  0.],\n",
       "       [ 0.,  0.,  0.,  0.,  0.,  0.],\n",
       "       [ 0.,  0.,  0.,  0.,  0.,  0.],\n",
       "       [ 0.,  0.,  0.,  0.,  0.,  0.]])"
      ]
     },
     "execution_count": 568,
     "metadata": {},
     "output_type": "execute_result"
    }
   ],
   "source": [
    "    # call the third function (create a matrix from dimension parameters)\n",
    "    Demo.fun3(pointx, pointy)\n",
    "    "
   ]
  },
  {
   "cell_type": "code",
   "execution_count": null,
   "metadata": {
    "collapsed": true
   },
   "outputs": [],
   "source": []
  }
 ],
 "metadata": {
  "kernelspec": {
   "display_name": "Python 3",
   "language": "python",
   "name": "python3"
  },
  "language_info": {
   "codemirror_mode": {
    "name": "ipython",
    "version": 3
   },
   "file_extension": ".py",
   "mimetype": "text/x-python",
   "name": "python",
   "nbconvert_exporter": "python",
   "pygments_lexer": "ipython3",
   "version": "3.6.1"
  }
 },
 "nbformat": 4,
 "nbformat_minor": 2
}
